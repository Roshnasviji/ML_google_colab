{
  "nbformat": 4,
  "nbformat_minor": 0,
  "metadata": {
    "colab": {
      "provenance": [],
      "authorship_tag": "ABX9TyOsxX1gXjYZRJBoQtks/kw5",
      "include_colab_link": true
    },
    "kernelspec": {
      "name": "python3",
      "display_name": "Python 3"
    },
    "language_info": {
      "name": "python"
    }
  },
  "cells": [
    {
      "cell_type": "markdown",
      "metadata": {
        "id": "view-in-github",
        "colab_type": "text"
      },
      "source": [
        "<a href=\"https://colab.research.google.com/github/Roshnasviji/ML_google_colab/blob/main/COPD_disease_abstract.ipynb\" target=\"_parent\"><img src=\"https://colab.research.google.com/assets/colab-badge.svg\" alt=\"Open In Colab\"/></a>"
      ]
    },
    {
      "cell_type": "code",
      "execution_count": null,
      "metadata": {
        "id": "o8hfi-3x4put"
      },
      "outputs": [],
      "source": [
        "import numpy as np\n",
        "import pandas as pd\n",
        "import matplotlib.pyplot as plt\n",
        "import seaborn as sns\n",
        "from sklearn.model_selection import train_test_split\n",
        "from sklearn.linear_model import LogisticRegression\n",
        "from sklearn.tree import DecisionTreeClassifier\n",
        "from sklearn.ensemble import RandomForestClassifier\n",
        "from sklearn import svm\n",
        "from sklearn.neighbors import KNeighborsClassifier\n",
        "from sklearn.metrics import accuracy_score\n",
        "from sklearn.preprocessing import StandardScaler\n",
        "from sklearn.naive_bayes import GaussianNB"
      ]
    },
    {
      "cell_type": "code",
      "source": [
        "from google.colab import files\n",
        "files.upload()"
      ],
      "metadata": {
        "colab": {
          "base_uri": "https://localhost:8080/",
          "height": 257
        },
        "id": "Cl6PVSPV6E9o",
        "outputId": "9020b303-cfae-44db-b720-05573f29866d"
      },
      "execution_count": null,
      "outputs": [
        {
          "output_type": "display_data",
          "data": {
            "text/plain": [
              "<IPython.core.display.HTML object>"
            ],
            "text/html": [
              "\n",
              "     <input type=\"file\" id=\"files-c2b4904e-0151-425f-966f-9dafadeaa306\" name=\"files[]\" multiple disabled\n",
              "        style=\"border:none\" />\n",
              "     <output id=\"result-c2b4904e-0151-425f-966f-9dafadeaa306\">\n",
              "      Upload widget is only available when the cell has been executed in the\n",
              "      current browser session. Please rerun this cell to enable.\n",
              "      </output>\n",
              "      <script>// Copyright 2017 Google LLC\n",
              "//\n",
              "// Licensed under the Apache License, Version 2.0 (the \"License\");\n",
              "// you may not use this file except in compliance with the License.\n",
              "// You may obtain a copy of the License at\n",
              "//\n",
              "//      http://www.apache.org/licenses/LICENSE-2.0\n",
              "//\n",
              "// Unless required by applicable law or agreed to in writing, software\n",
              "// distributed under the License is distributed on an \"AS IS\" BASIS,\n",
              "// WITHOUT WARRANTIES OR CONDITIONS OF ANY KIND, either express or implied.\n",
              "// See the License for the specific language governing permissions and\n",
              "// limitations under the License.\n",
              "\n",
              "/**\n",
              " * @fileoverview Helpers for google.colab Python module.\n",
              " */\n",
              "(function(scope) {\n",
              "function span(text, styleAttributes = {}) {\n",
              "  const element = document.createElement('span');\n",
              "  element.textContent = text;\n",
              "  for (const key of Object.keys(styleAttributes)) {\n",
              "    element.style[key] = styleAttributes[key];\n",
              "  }\n",
              "  return element;\n",
              "}\n",
              "\n",
              "// Max number of bytes which will be uploaded at a time.\n",
              "const MAX_PAYLOAD_SIZE = 100 * 1024;\n",
              "\n",
              "function _uploadFiles(inputId, outputId) {\n",
              "  const steps = uploadFilesStep(inputId, outputId);\n",
              "  const outputElement = document.getElementById(outputId);\n",
              "  // Cache steps on the outputElement to make it available for the next call\n",
              "  // to uploadFilesContinue from Python.\n",
              "  outputElement.steps = steps;\n",
              "\n",
              "  return _uploadFilesContinue(outputId);\n",
              "}\n",
              "\n",
              "// This is roughly an async generator (not supported in the browser yet),\n",
              "// where there are multiple asynchronous steps and the Python side is going\n",
              "// to poll for completion of each step.\n",
              "// This uses a Promise to block the python side on completion of each step,\n",
              "// then passes the result of the previous step as the input to the next step.\n",
              "function _uploadFilesContinue(outputId) {\n",
              "  const outputElement = document.getElementById(outputId);\n",
              "  const steps = outputElement.steps;\n",
              "\n",
              "  const next = steps.next(outputElement.lastPromiseValue);\n",
              "  return Promise.resolve(next.value.promise).then((value) => {\n",
              "    // Cache the last promise value to make it available to the next\n",
              "    // step of the generator.\n",
              "    outputElement.lastPromiseValue = value;\n",
              "    return next.value.response;\n",
              "  });\n",
              "}\n",
              "\n",
              "/**\n",
              " * Generator function which is called between each async step of the upload\n",
              " * process.\n",
              " * @param {string} inputId Element ID of the input file picker element.\n",
              " * @param {string} outputId Element ID of the output display.\n",
              " * @return {!Iterable<!Object>} Iterable of next steps.\n",
              " */\n",
              "function* uploadFilesStep(inputId, outputId) {\n",
              "  const inputElement = document.getElementById(inputId);\n",
              "  inputElement.disabled = false;\n",
              "\n",
              "  const outputElement = document.getElementById(outputId);\n",
              "  outputElement.innerHTML = '';\n",
              "\n",
              "  const pickedPromise = new Promise((resolve) => {\n",
              "    inputElement.addEventListener('change', (e) => {\n",
              "      resolve(e.target.files);\n",
              "    });\n",
              "  });\n",
              "\n",
              "  const cancel = document.createElement('button');\n",
              "  inputElement.parentElement.appendChild(cancel);\n",
              "  cancel.textContent = 'Cancel upload';\n",
              "  const cancelPromise = new Promise((resolve) => {\n",
              "    cancel.onclick = () => {\n",
              "      resolve(null);\n",
              "    };\n",
              "  });\n",
              "\n",
              "  // Wait for the user to pick the files.\n",
              "  const files = yield {\n",
              "    promise: Promise.race([pickedPromise, cancelPromise]),\n",
              "    response: {\n",
              "      action: 'starting',\n",
              "    }\n",
              "  };\n",
              "\n",
              "  cancel.remove();\n",
              "\n",
              "  // Disable the input element since further picks are not allowed.\n",
              "  inputElement.disabled = true;\n",
              "\n",
              "  if (!files) {\n",
              "    return {\n",
              "      response: {\n",
              "        action: 'complete',\n",
              "      }\n",
              "    };\n",
              "  }\n",
              "\n",
              "  for (const file of files) {\n",
              "    const li = document.createElement('li');\n",
              "    li.append(span(file.name, {fontWeight: 'bold'}));\n",
              "    li.append(span(\n",
              "        `(${file.type || 'n/a'}) - ${file.size} bytes, ` +\n",
              "        `last modified: ${\n",
              "            file.lastModifiedDate ? file.lastModifiedDate.toLocaleDateString() :\n",
              "                                    'n/a'} - `));\n",
              "    const percent = span('0% done');\n",
              "    li.appendChild(percent);\n",
              "\n",
              "    outputElement.appendChild(li);\n",
              "\n",
              "    const fileDataPromise = new Promise((resolve) => {\n",
              "      const reader = new FileReader();\n",
              "      reader.onload = (e) => {\n",
              "        resolve(e.target.result);\n",
              "      };\n",
              "      reader.readAsArrayBuffer(file);\n",
              "    });\n",
              "    // Wait for the data to be ready.\n",
              "    let fileData = yield {\n",
              "      promise: fileDataPromise,\n",
              "      response: {\n",
              "        action: 'continue',\n",
              "      }\n",
              "    };\n",
              "\n",
              "    // Use a chunked sending to avoid message size limits. See b/62115660.\n",
              "    let position = 0;\n",
              "    do {\n",
              "      const length = Math.min(fileData.byteLength - position, MAX_PAYLOAD_SIZE);\n",
              "      const chunk = new Uint8Array(fileData, position, length);\n",
              "      position += length;\n",
              "\n",
              "      const base64 = btoa(String.fromCharCode.apply(null, chunk));\n",
              "      yield {\n",
              "        response: {\n",
              "          action: 'append',\n",
              "          file: file.name,\n",
              "          data: base64,\n",
              "        },\n",
              "      };\n",
              "\n",
              "      let percentDone = fileData.byteLength === 0 ?\n",
              "          100 :\n",
              "          Math.round((position / fileData.byteLength) * 100);\n",
              "      percent.textContent = `${percentDone}% done`;\n",
              "\n",
              "    } while (position < fileData.byteLength);\n",
              "  }\n",
              "\n",
              "  // All done.\n",
              "  yield {\n",
              "    response: {\n",
              "      action: 'complete',\n",
              "    }\n",
              "  };\n",
              "}\n",
              "\n",
              "scope.google = scope.google || {};\n",
              "scope.google.colab = scope.google.colab || {};\n",
              "scope.google.colab._files = {\n",
              "  _uploadFiles,\n",
              "  _uploadFilesContinue,\n",
              "};\n",
              "})(self);\n",
              "</script> "
            ]
          },
          "metadata": {}
        },
        {
          "output_type": "stream",
          "name": "stdout",
          "text": [
            "Saving dataset1.csv to dataset1 (1).csv\n"
          ]
        },
        {
          "output_type": "execute_result",
          "data": {
            "text/plain": [
              "{'dataset1 (1).csv': b'number,ID,AGE,PackHistory,COPDSEVERITY,MWT1,MWT2,MWT1Best,FEV1,FEV1PRED,FVC,FVCPRED,CAT,HAD,SGRQ,AGEquartiles,copd,gender,smoking,Diabetes,muscular,hypertension,AtrialFib,IHD\\r\\n1,58,77,60,SEVERE,120,120,120,1.21,36,2.4,98,25,8,69.55,4,3,1,2,1,0,0,1,0\\r\\n2,57,79,50,MODERATE,165,176,176,1.09,56,1.64,65,12,21,44.24,4,2,0,2,1,0,0,1,1\\r\\n3,62,80,11,MODERATE,201,180,201,1.52,68,2.3,86,22,18,44.09,4,2,0,2,1,0,0,1,0\\r\\n4,145,56,60,VERY SEVERE,210,210,210,0.47,14,1.14,27,28,26,62.04,1,4,1,2,0,0,1,1,0\\r\\n5,136,65,68,SEVERE,204,210,210,1.07,42,2.91,98,32,18,75.56,1,3,1,2,0,1,1,0,0\\r\\n6,84,67,26,MODERATE,216,180,216,1.09,50,1.99,60,29,21,73.82,2,2,0,1,1,0,0,1,0\\r\\n7,93,67,50,SEVERE,214,237,237,0.69,35,1.31,48,29,30,77.44,2,3,0,1,1,0,0,1,0\\r\\n8,27,83,90,SEVERE,214,237,237,0.68,32,2.23,77,22,2,45.41,4,3,1,2,1,0,0,1,0\\r\\n9,114,72,50,MODERATE,231,237,237,2.13,63,4.38,80,25,6,69.61,3,2,1,1,1,0,0,1,0\\r\\n10,152,75,6,SEVERE,226,240,240,1.06,46,2.06,75,31,20,55.56,3,3,0,2,0,1,0,0,0\\r\\n11,166,76,6,SEVERE,226,240,240,1.1,46,2.06,75,31,20,55.56,3,3,0,2,1,1,0,1,0\\r\\n12,139,59,28,VERY SEVERE,240,230,240,0.68,29,2.02,73,23,18,55.23,1,4,0,2,0,0,0,1,0\\r\\n13,49,64,30,VERY SEVERE,246,234,246,0.45,17,1.56,45,15,22,50.53,1,4,1,2,1,0,0,1,0\\r\\n14,80,74,75,MILD,213,270,270,1.79,83,2.62,102,24,19,45,3,1,0,1,0,0,0,1,0\\r\\n15,162,70,103,MODERATE,264,271,271,1.2,52,2.09,121,12,1,39.66,2,2,0,2,0,0,0,0,0\\r\\n16,162,71,105,MODERATE,264,271,271,0.72,52,2.09,121,12,1,39.66,2,2,0,2,0,0,0,0,0\\r\\n17,41,69,78,SEVERE,243,273,273,1.46,46,3.33,81,15,10,28.86,2,3,1,2,1,0,0,1,0\\r\\n18,1,55,109,MODERATE,281,273,281,1.54,72,2.15,85,28,29,76.5,1,2,0,2,0,0,0,0,0\\r\\n19,153,72,15,VERY SEVERE,289,267,289,0.6,24,1.81,55,30,6,38.74,3,4,1,2,0,0,0,0,0\\r\\n20,167,72,15,VERY SEVERE,289,267,289,0.89,24,1.81,55,30,6,38.74,3,4,1,2,0,0,0,0,0\\r\\n21,138,74,24,VERY SEVERE,267,295,295,0.51,27,2.06,89,26,30,71.21,3,4,0,2,0,0,0,0,0\\r\\n22,48,75,40,VERY SEVERE,297,291,297,0.79,30,1.81,51,22,9,35.79,3,4,1,1,0,0,0,0,0\\r\\n23,110,69,15,SEVERE,300,300,300,0.91,39,2.9,105,29,9,58.78,2,3,0,2,0,0,0,0,0\\r\\n24,15,73,75,SEVERE,300,243,300,1.46,3.39,2.37,53,18,14,34.71,3,3,1,2,1,0,0,0,0\\r\\n25,70,75,45,MILD,282,300,300,2.35,85,4.12,112,23,19,58.25,3,1,1,2,0,0,0,0,0\\r\\n26,63,80,67,MODERATE,300,305,305,1.77,58,2.77,67,32,26,67.66,4,2,1,2,0,0,0,0,0\\r\\n27,81,76,38,SEVERE,281,312,312,1.06,32,3.11,70,25,11,56.8,4,3,1,1,0,0,0,0,0\\r\\n28,11,73,31,MODERATE,336,336,336,1.88,70,2.71,70,26,13,66.51,3,2,1,2,0,1,0,0,0\\r\\n29,31,77,75,MODERATE,322,338,338,1.92,68,2.66,69,16,2,36.39,4,2,1,2,0,1,0,1,0\\r\\n30,68,88,1,SEVERE,350,350,350,1.3,37,2,70,11,1,47.2,4,3,1,2,1,0,1,0,1\\r\\n31,97,44,30,SEVERE,360,368,368,1.66,42,3.08,63,30,17,72.24,1,3,1,2,0,0,0,0,0\\r\\n32,127,82,45,SEVERE,345,369,369,1.18,46,2.57,73,10,6,37.04,4,3,1,2,0,1,0,0,0\\r\\n33,42,73,38,MODERATE,315,369,369,1.86,70,3.69,105,11,16,35.81,3,2,1,2,1,0,0,0,1\\r\\n34,144,64,40,MODERATE,372,369,372,1.81,77,3.24,109,17,14,27.27,1,2,0,2,0,0,0,0,0\\r\\n35,69,76,23,MODERATE,375,360,375,2.01,76,3.63,103,23,23,37.71,4,2,1,2,0,0,0,0,0\\r\\n36,94,83,11,SEVERE,375,374,375,1.11,44,2.04,60,14,5,25.34,4,3,1,2,0,0,0,0,0\\r\\n37,24,65,66,MODERATE,363,383,383,2,75,3.35,107,5,5,25.02,1,2,0,2,0,0,0,1,0\\r\\n38,61,74,64,MODERATE,384,372,384,2.37,74,4.7,111,20,12,43.57,3,2,1,2,0,1,0,0,0\\r\\n39,36,70,50,SEVERE,390,370,390,1.07,42,2.91,88,25,10,64.68,2,3,1,2,0,0,0,1,0\\r\\n40,79,71,20,MILD,390,390,390,1.32,85,2.27,119,11,8,38.43,2,1,0,2,1,0,0,0,0\\r\\n41,51,78,37.5,MODERATE,390,391,391,1.6,59,2.68,60,5,6,27.52,4,2,1,2,0,0,0,0,0\\r\\n42,116,75,10,MODERATE,370,396,396,0.92,50,2.29,102,13,12,54.49,3,2,0,2,0,0,0,0,0\\r\\n43,37,67,36,MODERATE,400,393,400,1.79,62,3.19,84,23,10,50.03,2,2,1,2,0,0,0,0,1\\r\\n44,46,78,55,SEVERE,402,396,402,1.6,43,3.87,107,5,7,38.21,4,3,1,2,0,0,1,1,0\\r\\n45,67,73,59,MODERATE,405,405,405,2.43,75,5.37,125,16,18,19.94,3,2,1,2,0,0,0,0,0\\r\\n46,131,53,35,MILD,406,378,406,2.06,52,3.77,76,21,23,72.56,1,1,1,1,1,1,0,0,0\\r\\n47,122,64,90,SEVERE,416,390,416,1.26,44,2.1,58,18,15,42.01,1,3,1,2,0,0,1,0,0\\r\\n48,154,81,54,MODERATE,347,419,419,1.48,62,2.29,71,5,2,16.29,4,2,1,2,1,0,0,0,0\\r\\n49,168,82,54,MODERATE,347,419,419,1.34,62,2.29,71,5,2,16.29,4,2,1,2,0,0,0,1,0\\r\\n50,8,71,3,MILD,420,398,420,1.67,93,2.58,118,21,1,29.29,3,1,0,2,0,0,0,0,0\\r\\n51,73,65,34,MODERATE,420,420,420,1.45,61,2.85,101,27,14,41.1,1,2,0,1,0,1,0,0,0\\r\\n52,39,71,20,MILD,423,392,423,2.97,102,3.5,90,16,4,38.57,2,1,1,2,0,0,1,0,0\\r\\n53,101,78,55,MODERATE,431,401,431,1.78,60,4,100,18,7,28.51,4,2,1,2,0,0,0,0,0\\r\\n54,150,73,34,SEVERE,427,432,432,0.72,37,1.47,62,23,11,32.47,3,3,0,2,0,1,0,0,0\\r\\n55,164,72,34,SEVERE,427,432,432,0.73,37,1.47,62,23,11,32.47,3,3,0,2,1,1,0,0,0\\r\\n56,6,63,44,SEVERE,435,437,437,1.28,40,3.56,87,20,17,62.09,1,3,1,2,0,0,1,0,0\\r\\n57,91,60,14,MODERATE,NA,438,438,2.12,76,3.62,97,14,22,51.77,1,2,1,2,0,0,1,0,0\\r\\n58,71,75,45,MILD,439,437,439,2.62,86,4.9,122,6,4,18.72,3,1,1,2,0,1,0,0,0\\r\\n59,2,73,49,MODERATE,445,420,445,1.42,62,2.14,79,20,9,46.77,3,2,0,1,0,0,0,0,0\\r\\n60,65,66,20,MILD,450,435,450,3.02,98,5.23,132,12,4,17.97,2,1,1,2,0,0,0,1,0\\r\\n61,159,80,3,MILD,435,451,451,1.97,90,2.33,84,188,6,36.74,4,1,1,2,0,1,0,0,0\\r\\n62,159,81,3,MILD,435,451,451,1.83,90,2.33,84,18,6,36.74,4,1,1,2,1,1,0,0,0\\r\\n63,45,73,100,SEVERE,451,315,451,1.26,40,2.28,53,23,10,15.05,3,3,1,2,0,1,0,0,0\\r\\n64,151,71,47,MODERATE,453,450,453,1.28,60,2.29,84,9,12,28.41,2,2,0,2,0,0,0,0,0\\r\\n65,165,69,47,MODERATE,453,450,453,0.65,60,2.29,84,9,12,28.41,2,2,0,2,0,0,0,0,0\\r\\n66,64,74,55,MILD,450,458,458,3.06,95,4.46,104,17,6,24.48,3,1,1,2,0,1,1,0,0\\r\\n67,76,62,80,MILD,459,453,459,1.93,61,3.39,123,6,8,10.01,1,1,0,2,0,0,0,1,0\\r\\n68,156,68,20,SEVERE,435,459,459,1.12,37,3.22,81,24,15,61.97,2,3,1,2,0,0,0,0,0\\r\\n69,158,70,36,MILD,419,459,459,2.11,90,3.51,125,5,0,10.92,2,1,0,2,0,0,0,0,0\\r\\n70,169,67,20,SEVERE,435,459,459,1.11,37,3.22,81,24,15,61.97,2,3,1,2,0,0,0,0,0\\r\\n71,158,70,36,MILD,419,459,459,1.89,90,3.51,125,5,0,10.92,2,1,0,2,0,0,0,0,0\\r\\n72,140,49,39,VERY SEVERE,461,460,461,0.74,27,2.31,72,13,11,28.33,1,4,0,2,0,0,0,0,0\\r\\n73,3,75,5,MODERATE,462,423,462,2.43,79,4.33,107,16,4,47.88,3,2,1,2,0,0,0,0,0\\r\\n74,30,73,60,MODERATE,443,462,462,1.92,66,3.76,98,19,7,56.96,3,2,1,2,0,1,0,0,1\\r\\n75,54,78,30,SEVERE,420,465,465,1.14,36,3.04,72,14,6,34.46,4,3,1,2,0,0,0,0,0\\r\\n76,143,67,45,MILD,460,466,466,2.79,88,4.11,118,10,11,29.98,2,1,1,1,0,0,0,0,0\\r\\n77,157,75,30,MODERATE,469,399,469,1.64,59,3.1,79,16,9,32.38,4,2,1,1,0,0,0,0,0\\r\\n78,157,76,30,MODERATE,469,399,469,1.74,59,3.1,79,16,9,32.38,4,2,1,1,0,0,0,0,0\\r\\n79,34,63,50,MODERATE,476,414,476,1.69,68,2.31,73,14,15,47.36,1,2,0,2,1,0,0,0,0\\r\\n80,78,65,6,MILD,468,480,480,3.18,85,4.54,101,25,7,56.2,1,1,0,2,0,0,0,0,0\\r\\n81,18,65,20,MILD,468,480,480,2.13,92,3.2,116,25,56.2,2,1,1,0,2,0,0,1,0,0\\r\\n82,52,62,8,MODERATE,459,480,480,2.52,79,3.89,65,15,12,32.69,1,2,1,2,0,0,1,0,0\\r\\n83,146,63,20,MODERATE,474,489,489,1.01,54,2.48,110,7,2,17.95,1,2,0,2,0,0,0,0,0\\r\\n84,104,64,35,SEVERE,474,489,489,0.82,46,1.52,70,26,17,67.56,1,3,0,1,0,0,0,0,0\\r\\n85,92,72,75,SEVERE,492,440,492,0.94,30,2.47,60,22,13,45.3,3,3,1,2,1,0,0,0,0\\r\\n86,87,61,9,MODERATE,496,492,496,1.37,55,2.42,81,12,5,39.51,1,2,0,1,0,0,0,0,0\\r\\n87,16,60,10,MODERATE,492,498,498,1.96,3.29,4.01,96,12,3,24.52,1,2,1,2,0,0,0,0,0\\r\\n88,133,78,51,MODERATE,501,496,501,1.23,76,1.89,95,22,8,33.69,4,2,0,2,0,0,0,0,1\\r\\n89,90,67,20,MODERATE,496,505,505,2.74,75,4.54,96,5,7,8.12,2,2,1,2,0,0,0,0,0\\r\\n90,111,68,30,MILD,510,518,518,1.75,61,5.15,111,14,6,33.2,2,1,1,1,0,0,0,0,0\\r\\n91,118,72,30,MILD,510,525,525,2.8,80,4.39,95,23,9,42.88,3,1,1,2,0,0,0,0,0\\r\\n92,149,69,27,MODERATE,495,531,531,1.89,69,2.61,72,3,0,8.25,2,2,1,2,0,0,0,0,0\\r\\n93,163,68,27,MODERATE,495,531,531,1.89,69,2.61,72,3,0,8.25,2,2,1,2,0,0,0,0,0\\r\\n94,112,52,40,MILD,483,540,540,2.93,75,3.63,75,12,2,25.62,1,1,1,1,0,0,0,0,0\\r\\n95,135,55,40,MILD,522,540,540,2.75,85,4.54,96,22,10,58.41,1,1,1,2,1,0,0,0,1\\r\\n96,12,72,30,MODERATE,558,563,558,1.61,61,3.14,91,18,12,34.64,3,2,1,2,0,0,0,0,1\\r\\n97,10,68,25,MILD,511,575,575,2.7,98,3.87,108,20,7,35.84,2,1,1,2,0,1,0,0,0\\r\\n98,43,75,40,MILD,576,577,577,2.9,93,4.72,114,9,22,15.05,3,1,1,2,0,1,0,0,1\\r\\n99,74,68,30,MODERATE,468,582,582,1.65,67,2.8,88,4,1,19.7,2,2,0,2,0,0,1,0,0\\r\\n100,108,54,30,SEVERE,688,699,699,1.72,44,4.07,82,10,10,20.55,1,3,1,2,0,0,0,0,0\\r\\n101,85,78,55,MODERATE,NA,NA,NA,1.15,54,2.01,85,18,7,30.21,4,2,1,2,0,0,0,0,0\\r\\n'}"
            ]
          },
          "metadata": {},
          "execution_count": 47
        }
      ]
    },
    {
      "cell_type": "code",
      "source": [
        "patient_data = pd.read_csv('dataset1.csv')\n",
        "patient_data"
      ],
      "metadata": {
        "colab": {
          "base_uri": "https://localhost:8080/",
          "height": 423
        },
        "id": "rBNlsYvf6KAI",
        "outputId": "130fc5ca-36dd-4c62-a2e4-ba0583d0f4bc"
      },
      "execution_count": null,
      "outputs": [
        {
          "output_type": "execute_result",
          "data": {
            "text/plain": [
              "     number   ID  AGE  PackHistory COPDSEVERITY   MWT1   MWT2  MWT1Best  FEV1  \\\n",
              "0         1   58   77         60.0       SEVERE  120.0  120.0     120.0  1.21   \n",
              "1         2   57   79         50.0     MODERATE  165.0  176.0     176.0  1.09   \n",
              "2         3   62   80         11.0     MODERATE  201.0  180.0     201.0  1.52   \n",
              "3         4  145   56         60.0  VERY SEVERE  210.0  210.0     210.0  0.47   \n",
              "4         5  136   65         68.0       SEVERE  204.0  210.0     210.0  1.07   \n",
              "..      ...  ...  ...          ...          ...    ...    ...       ...   ...   \n",
              "96       97   10   68         25.0         MILD  511.0  575.0     575.0  2.70   \n",
              "97       98   43   75         40.0         MILD  576.0  577.0     577.0  2.90   \n",
              "98       99   74   68         30.0     MODERATE  468.0  582.0     582.0  1.65   \n",
              "99      100  108   54         30.0       SEVERE  688.0  699.0     699.0  1.72   \n",
              "100     101   85   78         55.0     MODERATE    NaN    NaN       NaN  1.15   \n",
              "\n",
              "     FEV1PRED  ...   SGRQ  AGEquartiles  copd  gender  smoking  Diabetes  \\\n",
              "0        36.0  ...  69.55             4     3       1        2         1   \n",
              "1        56.0  ...  44.24             4     2       0        2         1   \n",
              "2        68.0  ...  44.09             4     2       0        2         1   \n",
              "3        14.0  ...  62.04             1     4       1        2         0   \n",
              "4        42.0  ...  75.56             1     3       1        2         0   \n",
              "..        ...  ...    ...           ...   ...     ...      ...       ...   \n",
              "96       98.0  ...  35.84             2     1       1        2         0   \n",
              "97       93.0  ...  15.05             3     1       1        2         0   \n",
              "98       67.0  ...  19.70             2     2       0        2         0   \n",
              "99       44.0  ...  20.55             1     3       1        2         0   \n",
              "100      54.0  ...  30.21             4     2       1        2         0   \n",
              "\n",
              "     muscular  hypertension  AtrialFib  IHD  \n",
              "0           0             0          1    0  \n",
              "1           0             0          1    1  \n",
              "2           0             0          1    0  \n",
              "3           0             1          1    0  \n",
              "4           1             1          0    0  \n",
              "..        ...           ...        ...  ...  \n",
              "96          1             0          0    0  \n",
              "97          1             0          0    1  \n",
              "98          0             1          0    0  \n",
              "99          0             0          0    0  \n",
              "100         0             0          0    0  \n",
              "\n",
              "[101 rows x 24 columns]"
            ],
            "text/html": [
              "\n",
              "  <div id=\"df-5696d4d6-f89d-40c1-9f99-204149c9063f\" class=\"colab-df-container\">\n",
              "    <div>\n",
              "<style scoped>\n",
              "    .dataframe tbody tr th:only-of-type {\n",
              "        vertical-align: middle;\n",
              "    }\n",
              "\n",
              "    .dataframe tbody tr th {\n",
              "        vertical-align: top;\n",
              "    }\n",
              "\n",
              "    .dataframe thead th {\n",
              "        text-align: right;\n",
              "    }\n",
              "</style>\n",
              "<table border=\"1\" class=\"dataframe\">\n",
              "  <thead>\n",
              "    <tr style=\"text-align: right;\">\n",
              "      <th></th>\n",
              "      <th>number</th>\n",
              "      <th>ID</th>\n",
              "      <th>AGE</th>\n",
              "      <th>PackHistory</th>\n",
              "      <th>COPDSEVERITY</th>\n",
              "      <th>MWT1</th>\n",
              "      <th>MWT2</th>\n",
              "      <th>MWT1Best</th>\n",
              "      <th>FEV1</th>\n",
              "      <th>FEV1PRED</th>\n",
              "      <th>...</th>\n",
              "      <th>SGRQ</th>\n",
              "      <th>AGEquartiles</th>\n",
              "      <th>copd</th>\n",
              "      <th>gender</th>\n",
              "      <th>smoking</th>\n",
              "      <th>Diabetes</th>\n",
              "      <th>muscular</th>\n",
              "      <th>hypertension</th>\n",
              "      <th>AtrialFib</th>\n",
              "      <th>IHD</th>\n",
              "    </tr>\n",
              "  </thead>\n",
              "  <tbody>\n",
              "    <tr>\n",
              "      <th>0</th>\n",
              "      <td>1</td>\n",
              "      <td>58</td>\n",
              "      <td>77</td>\n",
              "      <td>60.0</td>\n",
              "      <td>SEVERE</td>\n",
              "      <td>120.0</td>\n",
              "      <td>120.0</td>\n",
              "      <td>120.0</td>\n",
              "      <td>1.21</td>\n",
              "      <td>36.0</td>\n",
              "      <td>...</td>\n",
              "      <td>69.55</td>\n",
              "      <td>4</td>\n",
              "      <td>3</td>\n",
              "      <td>1</td>\n",
              "      <td>2</td>\n",
              "      <td>1</td>\n",
              "      <td>0</td>\n",
              "      <td>0</td>\n",
              "      <td>1</td>\n",
              "      <td>0</td>\n",
              "    </tr>\n",
              "    <tr>\n",
              "      <th>1</th>\n",
              "      <td>2</td>\n",
              "      <td>57</td>\n",
              "      <td>79</td>\n",
              "      <td>50.0</td>\n",
              "      <td>MODERATE</td>\n",
              "      <td>165.0</td>\n",
              "      <td>176.0</td>\n",
              "      <td>176.0</td>\n",
              "      <td>1.09</td>\n",
              "      <td>56.0</td>\n",
              "      <td>...</td>\n",
              "      <td>44.24</td>\n",
              "      <td>4</td>\n",
              "      <td>2</td>\n",
              "      <td>0</td>\n",
              "      <td>2</td>\n",
              "      <td>1</td>\n",
              "      <td>0</td>\n",
              "      <td>0</td>\n",
              "      <td>1</td>\n",
              "      <td>1</td>\n",
              "    </tr>\n",
              "    <tr>\n",
              "      <th>2</th>\n",
              "      <td>3</td>\n",
              "      <td>62</td>\n",
              "      <td>80</td>\n",
              "      <td>11.0</td>\n",
              "      <td>MODERATE</td>\n",
              "      <td>201.0</td>\n",
              "      <td>180.0</td>\n",
              "      <td>201.0</td>\n",
              "      <td>1.52</td>\n",
              "      <td>68.0</td>\n",
              "      <td>...</td>\n",
              "      <td>44.09</td>\n",
              "      <td>4</td>\n",
              "      <td>2</td>\n",
              "      <td>0</td>\n",
              "      <td>2</td>\n",
              "      <td>1</td>\n",
              "      <td>0</td>\n",
              "      <td>0</td>\n",
              "      <td>1</td>\n",
              "      <td>0</td>\n",
              "    </tr>\n",
              "    <tr>\n",
              "      <th>3</th>\n",
              "      <td>4</td>\n",
              "      <td>145</td>\n",
              "      <td>56</td>\n",
              "      <td>60.0</td>\n",
              "      <td>VERY SEVERE</td>\n",
              "      <td>210.0</td>\n",
              "      <td>210.0</td>\n",
              "      <td>210.0</td>\n",
              "      <td>0.47</td>\n",
              "      <td>14.0</td>\n",
              "      <td>...</td>\n",
              "      <td>62.04</td>\n",
              "      <td>1</td>\n",
              "      <td>4</td>\n",
              "      <td>1</td>\n",
              "      <td>2</td>\n",
              "      <td>0</td>\n",
              "      <td>0</td>\n",
              "      <td>1</td>\n",
              "      <td>1</td>\n",
              "      <td>0</td>\n",
              "    </tr>\n",
              "    <tr>\n",
              "      <th>4</th>\n",
              "      <td>5</td>\n",
              "      <td>136</td>\n",
              "      <td>65</td>\n",
              "      <td>68.0</td>\n",
              "      <td>SEVERE</td>\n",
              "      <td>204.0</td>\n",
              "      <td>210.0</td>\n",
              "      <td>210.0</td>\n",
              "      <td>1.07</td>\n",
              "      <td>42.0</td>\n",
              "      <td>...</td>\n",
              "      <td>75.56</td>\n",
              "      <td>1</td>\n",
              "      <td>3</td>\n",
              "      <td>1</td>\n",
              "      <td>2</td>\n",
              "      <td>0</td>\n",
              "      <td>1</td>\n",
              "      <td>1</td>\n",
              "      <td>0</td>\n",
              "      <td>0</td>\n",
              "    </tr>\n",
              "    <tr>\n",
              "      <th>...</th>\n",
              "      <td>...</td>\n",
              "      <td>...</td>\n",
              "      <td>...</td>\n",
              "      <td>...</td>\n",
              "      <td>...</td>\n",
              "      <td>...</td>\n",
              "      <td>...</td>\n",
              "      <td>...</td>\n",
              "      <td>...</td>\n",
              "      <td>...</td>\n",
              "      <td>...</td>\n",
              "      <td>...</td>\n",
              "      <td>...</td>\n",
              "      <td>...</td>\n",
              "      <td>...</td>\n",
              "      <td>...</td>\n",
              "      <td>...</td>\n",
              "      <td>...</td>\n",
              "      <td>...</td>\n",
              "      <td>...</td>\n",
              "      <td>...</td>\n",
              "    </tr>\n",
              "    <tr>\n",
              "      <th>96</th>\n",
              "      <td>97</td>\n",
              "      <td>10</td>\n",
              "      <td>68</td>\n",
              "      <td>25.0</td>\n",
              "      <td>MILD</td>\n",
              "      <td>511.0</td>\n",
              "      <td>575.0</td>\n",
              "      <td>575.0</td>\n",
              "      <td>2.70</td>\n",
              "      <td>98.0</td>\n",
              "      <td>...</td>\n",
              "      <td>35.84</td>\n",
              "      <td>2</td>\n",
              "      <td>1</td>\n",
              "      <td>1</td>\n",
              "      <td>2</td>\n",
              "      <td>0</td>\n",
              "      <td>1</td>\n",
              "      <td>0</td>\n",
              "      <td>0</td>\n",
              "      <td>0</td>\n",
              "    </tr>\n",
              "    <tr>\n",
              "      <th>97</th>\n",
              "      <td>98</td>\n",
              "      <td>43</td>\n",
              "      <td>75</td>\n",
              "      <td>40.0</td>\n",
              "      <td>MILD</td>\n",
              "      <td>576.0</td>\n",
              "      <td>577.0</td>\n",
              "      <td>577.0</td>\n",
              "      <td>2.90</td>\n",
              "      <td>93.0</td>\n",
              "      <td>...</td>\n",
              "      <td>15.05</td>\n",
              "      <td>3</td>\n",
              "      <td>1</td>\n",
              "      <td>1</td>\n",
              "      <td>2</td>\n",
              "      <td>0</td>\n",
              "      <td>1</td>\n",
              "      <td>0</td>\n",
              "      <td>0</td>\n",
              "      <td>1</td>\n",
              "    </tr>\n",
              "    <tr>\n",
              "      <th>98</th>\n",
              "      <td>99</td>\n",
              "      <td>74</td>\n",
              "      <td>68</td>\n",
              "      <td>30.0</td>\n",
              "      <td>MODERATE</td>\n",
              "      <td>468.0</td>\n",
              "      <td>582.0</td>\n",
              "      <td>582.0</td>\n",
              "      <td>1.65</td>\n",
              "      <td>67.0</td>\n",
              "      <td>...</td>\n",
              "      <td>19.70</td>\n",
              "      <td>2</td>\n",
              "      <td>2</td>\n",
              "      <td>0</td>\n",
              "      <td>2</td>\n",
              "      <td>0</td>\n",
              "      <td>0</td>\n",
              "      <td>1</td>\n",
              "      <td>0</td>\n",
              "      <td>0</td>\n",
              "    </tr>\n",
              "    <tr>\n",
              "      <th>99</th>\n",
              "      <td>100</td>\n",
              "      <td>108</td>\n",
              "      <td>54</td>\n",
              "      <td>30.0</td>\n",
              "      <td>SEVERE</td>\n",
              "      <td>688.0</td>\n",
              "      <td>699.0</td>\n",
              "      <td>699.0</td>\n",
              "      <td>1.72</td>\n",
              "      <td>44.0</td>\n",
              "      <td>...</td>\n",
              "      <td>20.55</td>\n",
              "      <td>1</td>\n",
              "      <td>3</td>\n",
              "      <td>1</td>\n",
              "      <td>2</td>\n",
              "      <td>0</td>\n",
              "      <td>0</td>\n",
              "      <td>0</td>\n",
              "      <td>0</td>\n",
              "      <td>0</td>\n",
              "    </tr>\n",
              "    <tr>\n",
              "      <th>100</th>\n",
              "      <td>101</td>\n",
              "      <td>85</td>\n",
              "      <td>78</td>\n",
              "      <td>55.0</td>\n",
              "      <td>MODERATE</td>\n",
              "      <td>NaN</td>\n",
              "      <td>NaN</td>\n",
              "      <td>NaN</td>\n",
              "      <td>1.15</td>\n",
              "      <td>54.0</td>\n",
              "      <td>...</td>\n",
              "      <td>30.21</td>\n",
              "      <td>4</td>\n",
              "      <td>2</td>\n",
              "      <td>1</td>\n",
              "      <td>2</td>\n",
              "      <td>0</td>\n",
              "      <td>0</td>\n",
              "      <td>0</td>\n",
              "      <td>0</td>\n",
              "      <td>0</td>\n",
              "    </tr>\n",
              "  </tbody>\n",
              "</table>\n",
              "<p>101 rows × 24 columns</p>\n",
              "</div>\n",
              "    <div class=\"colab-df-buttons\">\n",
              "\n",
              "  <div class=\"colab-df-container\">\n",
              "    <button class=\"colab-df-convert\" onclick=\"convertToInteractive('df-5696d4d6-f89d-40c1-9f99-204149c9063f')\"\n",
              "            title=\"Convert this dataframe to an interactive table.\"\n",
              "            style=\"display:none;\">\n",
              "\n",
              "  <svg xmlns=\"http://www.w3.org/2000/svg\" height=\"24px\" viewBox=\"0 -960 960 960\">\n",
              "    <path d=\"M120-120v-720h720v720H120Zm60-500h600v-160H180v160Zm220 220h160v-160H400v160Zm0 220h160v-160H400v160ZM180-400h160v-160H180v160Zm440 0h160v-160H620v160ZM180-180h160v-160H180v160Zm440 0h160v-160H620v160Z\"/>\n",
              "  </svg>\n",
              "    </button>\n",
              "\n",
              "  <style>\n",
              "    .colab-df-container {\n",
              "      display:flex;\n",
              "      gap: 12px;\n",
              "    }\n",
              "\n",
              "    .colab-df-convert {\n",
              "      background-color: #E8F0FE;\n",
              "      border: none;\n",
              "      border-radius: 50%;\n",
              "      cursor: pointer;\n",
              "      display: none;\n",
              "      fill: #1967D2;\n",
              "      height: 32px;\n",
              "      padding: 0 0 0 0;\n",
              "      width: 32px;\n",
              "    }\n",
              "\n",
              "    .colab-df-convert:hover {\n",
              "      background-color: #E2EBFA;\n",
              "      box-shadow: 0px 1px 2px rgba(60, 64, 67, 0.3), 0px 1px 3px 1px rgba(60, 64, 67, 0.15);\n",
              "      fill: #174EA6;\n",
              "    }\n",
              "\n",
              "    .colab-df-buttons div {\n",
              "      margin-bottom: 4px;\n",
              "    }\n",
              "\n",
              "    [theme=dark] .colab-df-convert {\n",
              "      background-color: #3B4455;\n",
              "      fill: #D2E3FC;\n",
              "    }\n",
              "\n",
              "    [theme=dark] .colab-df-convert:hover {\n",
              "      background-color: #434B5C;\n",
              "      box-shadow: 0px 1px 3px 1px rgba(0, 0, 0, 0.15);\n",
              "      filter: drop-shadow(0px 1px 2px rgba(0, 0, 0, 0.3));\n",
              "      fill: #FFFFFF;\n",
              "    }\n",
              "  </style>\n",
              "\n",
              "    <script>\n",
              "      const buttonEl =\n",
              "        document.querySelector('#df-5696d4d6-f89d-40c1-9f99-204149c9063f button.colab-df-convert');\n",
              "      buttonEl.style.display =\n",
              "        google.colab.kernel.accessAllowed ? 'block' : 'none';\n",
              "\n",
              "      async function convertToInteractive(key) {\n",
              "        const element = document.querySelector('#df-5696d4d6-f89d-40c1-9f99-204149c9063f');\n",
              "        const dataTable =\n",
              "          await google.colab.kernel.invokeFunction('convertToInteractive',\n",
              "                                                    [key], {});\n",
              "        if (!dataTable) return;\n",
              "\n",
              "        const docLinkHtml = 'Like what you see? Visit the ' +\n",
              "          '<a target=\"_blank\" href=https://colab.research.google.com/notebooks/data_table.ipynb>data table notebook</a>'\n",
              "          + ' to learn more about interactive tables.';\n",
              "        element.innerHTML = '';\n",
              "        dataTable['output_type'] = 'display_data';\n",
              "        await google.colab.output.renderOutput(dataTable, element);\n",
              "        const docLink = document.createElement('div');\n",
              "        docLink.innerHTML = docLinkHtml;\n",
              "        element.appendChild(docLink);\n",
              "      }\n",
              "    </script>\n",
              "  </div>\n",
              "\n",
              "\n",
              "<div id=\"df-9cf57cc0-7be7-4b7e-87bd-3335d304782d\">\n",
              "  <button class=\"colab-df-quickchart\" onclick=\"quickchart('df-9cf57cc0-7be7-4b7e-87bd-3335d304782d')\"\n",
              "            title=\"Suggest charts\"\n",
              "            style=\"display:none;\">\n",
              "\n",
              "<svg xmlns=\"http://www.w3.org/2000/svg\" height=\"24px\"viewBox=\"0 0 24 24\"\n",
              "     width=\"24px\">\n",
              "    <g>\n",
              "        <path d=\"M19 3H5c-1.1 0-2 .9-2 2v14c0 1.1.9 2 2 2h14c1.1 0 2-.9 2-2V5c0-1.1-.9-2-2-2zM9 17H7v-7h2v7zm4 0h-2V7h2v10zm4 0h-2v-4h2v4z\"/>\n",
              "    </g>\n",
              "</svg>\n",
              "  </button>\n",
              "\n",
              "<style>\n",
              "  .colab-df-quickchart {\n",
              "      --bg-color: #E8F0FE;\n",
              "      --fill-color: #1967D2;\n",
              "      --hover-bg-color: #E2EBFA;\n",
              "      --hover-fill-color: #174EA6;\n",
              "      --disabled-fill-color: #AAA;\n",
              "      --disabled-bg-color: #DDD;\n",
              "  }\n",
              "\n",
              "  [theme=dark] .colab-df-quickchart {\n",
              "      --bg-color: #3B4455;\n",
              "      --fill-color: #D2E3FC;\n",
              "      --hover-bg-color: #434B5C;\n",
              "      --hover-fill-color: #FFFFFF;\n",
              "      --disabled-bg-color: #3B4455;\n",
              "      --disabled-fill-color: #666;\n",
              "  }\n",
              "\n",
              "  .colab-df-quickchart {\n",
              "    background-color: var(--bg-color);\n",
              "    border: none;\n",
              "    border-radius: 50%;\n",
              "    cursor: pointer;\n",
              "    display: none;\n",
              "    fill: var(--fill-color);\n",
              "    height: 32px;\n",
              "    padding: 0;\n",
              "    width: 32px;\n",
              "  }\n",
              "\n",
              "  .colab-df-quickchart:hover {\n",
              "    background-color: var(--hover-bg-color);\n",
              "    box-shadow: 0 1px 2px rgba(60, 64, 67, 0.3), 0 1px 3px 1px rgba(60, 64, 67, 0.15);\n",
              "    fill: var(--button-hover-fill-color);\n",
              "  }\n",
              "\n",
              "  .colab-df-quickchart-complete:disabled,\n",
              "  .colab-df-quickchart-complete:disabled:hover {\n",
              "    background-color: var(--disabled-bg-color);\n",
              "    fill: var(--disabled-fill-color);\n",
              "    box-shadow: none;\n",
              "  }\n",
              "\n",
              "  .colab-df-spinner {\n",
              "    border: 2px solid var(--fill-color);\n",
              "    border-color: transparent;\n",
              "    border-bottom-color: var(--fill-color);\n",
              "    animation:\n",
              "      spin 1s steps(1) infinite;\n",
              "  }\n",
              "\n",
              "  @keyframes spin {\n",
              "    0% {\n",
              "      border-color: transparent;\n",
              "      border-bottom-color: var(--fill-color);\n",
              "      border-left-color: var(--fill-color);\n",
              "    }\n",
              "    20% {\n",
              "      border-color: transparent;\n",
              "      border-left-color: var(--fill-color);\n",
              "      border-top-color: var(--fill-color);\n",
              "    }\n",
              "    30% {\n",
              "      border-color: transparent;\n",
              "      border-left-color: var(--fill-color);\n",
              "      border-top-color: var(--fill-color);\n",
              "      border-right-color: var(--fill-color);\n",
              "    }\n",
              "    40% {\n",
              "      border-color: transparent;\n",
              "      border-right-color: var(--fill-color);\n",
              "      border-top-color: var(--fill-color);\n",
              "    }\n",
              "    60% {\n",
              "      border-color: transparent;\n",
              "      border-right-color: var(--fill-color);\n",
              "    }\n",
              "    80% {\n",
              "      border-color: transparent;\n",
              "      border-right-color: var(--fill-color);\n",
              "      border-bottom-color: var(--fill-color);\n",
              "    }\n",
              "    90% {\n",
              "      border-color: transparent;\n",
              "      border-bottom-color: var(--fill-color);\n",
              "    }\n",
              "  }\n",
              "</style>\n",
              "\n",
              "  <script>\n",
              "    async function quickchart(key) {\n",
              "      const quickchartButtonEl =\n",
              "        document.querySelector('#' + key + ' button');\n",
              "      quickchartButtonEl.disabled = true;  // To prevent multiple clicks.\n",
              "      quickchartButtonEl.classList.add('colab-df-spinner');\n",
              "      try {\n",
              "        const charts = await google.colab.kernel.invokeFunction(\n",
              "            'suggestCharts', [key], {});\n",
              "      } catch (error) {\n",
              "        console.error('Error during call to suggestCharts:', error);\n",
              "      }\n",
              "      quickchartButtonEl.classList.remove('colab-df-spinner');\n",
              "      quickchartButtonEl.classList.add('colab-df-quickchart-complete');\n",
              "    }\n",
              "    (() => {\n",
              "      let quickchartButtonEl =\n",
              "        document.querySelector('#df-9cf57cc0-7be7-4b7e-87bd-3335d304782d button');\n",
              "      quickchartButtonEl.style.display =\n",
              "        google.colab.kernel.accessAllowed ? 'block' : 'none';\n",
              "    })();\n",
              "  </script>\n",
              "</div>\n",
              "\n",
              "  <div id=\"id_0689be95-0bd5-4322-bb64-98e0f913f7b7\">\n",
              "    <style>\n",
              "      .colab-df-generate {\n",
              "        background-color: #E8F0FE;\n",
              "        border: none;\n",
              "        border-radius: 50%;\n",
              "        cursor: pointer;\n",
              "        display: none;\n",
              "        fill: #1967D2;\n",
              "        height: 32px;\n",
              "        padding: 0 0 0 0;\n",
              "        width: 32px;\n",
              "      }\n",
              "\n",
              "      .colab-df-generate:hover {\n",
              "        background-color: #E2EBFA;\n",
              "        box-shadow: 0px 1px 2px rgba(60, 64, 67, 0.3), 0px 1px 3px 1px rgba(60, 64, 67, 0.15);\n",
              "        fill: #174EA6;\n",
              "      }\n",
              "\n",
              "      [theme=dark] .colab-df-generate {\n",
              "        background-color: #3B4455;\n",
              "        fill: #D2E3FC;\n",
              "      }\n",
              "\n",
              "      [theme=dark] .colab-df-generate:hover {\n",
              "        background-color: #434B5C;\n",
              "        box-shadow: 0px 1px 3px 1px rgba(0, 0, 0, 0.15);\n",
              "        filter: drop-shadow(0px 1px 2px rgba(0, 0, 0, 0.3));\n",
              "        fill: #FFFFFF;\n",
              "      }\n",
              "    </style>\n",
              "    <button class=\"colab-df-generate\" onclick=\"generateWithVariable('patient_data')\"\n",
              "            title=\"Generate code using this dataframe.\"\n",
              "            style=\"display:none;\">\n",
              "\n",
              "  <svg xmlns=\"http://www.w3.org/2000/svg\" height=\"24px\"viewBox=\"0 0 24 24\"\n",
              "       width=\"24px\">\n",
              "    <path d=\"M7,19H8.4L18.45,9,17,7.55,7,17.6ZM5,21V16.75L18.45,3.32a2,2,0,0,1,2.83,0l1.4,1.43a1.91,1.91,0,0,1,.58,1.4,1.91,1.91,0,0,1-.58,1.4L9.25,21ZM18.45,9,17,7.55Zm-12,3A5.31,5.31,0,0,0,4.9,8.1,5.31,5.31,0,0,0,1,6.5,5.31,5.31,0,0,0,4.9,4.9,5.31,5.31,0,0,0,6.5,1,5.31,5.31,0,0,0,8.1,4.9,5.31,5.31,0,0,0,12,6.5,5.46,5.46,0,0,0,6.5,12Z\"/>\n",
              "  </svg>\n",
              "    </button>\n",
              "    <script>\n",
              "      (() => {\n",
              "      const buttonEl =\n",
              "        document.querySelector('#id_0689be95-0bd5-4322-bb64-98e0f913f7b7 button.colab-df-generate');\n",
              "      buttonEl.style.display =\n",
              "        google.colab.kernel.accessAllowed ? 'block' : 'none';\n",
              "\n",
              "      buttonEl.onclick = () => {\n",
              "        google.colab.notebook.generateWithVariable('patient_data');\n",
              "      }\n",
              "      })();\n",
              "    </script>\n",
              "  </div>\n",
              "\n",
              "    </div>\n",
              "  </div>\n"
            ]
          },
          "metadata": {},
          "execution_count": 48
        }
      ]
    },
    {
      "cell_type": "code",
      "source": [
        "patient_data.shape"
      ],
      "metadata": {
        "colab": {
          "base_uri": "https://localhost:8080/"
        },
        "id": "MchrifZX6WOt",
        "outputId": "a416ab23-8d7a-43ac-bed6-aa2be0ab867c"
      },
      "execution_count": null,
      "outputs": [
        {
          "output_type": "execute_result",
          "data": {
            "text/plain": [
              "(101, 24)"
            ]
          },
          "metadata": {},
          "execution_count": 49
        }
      ]
    },
    {
      "cell_type": "code",
      "source": [
        "patient_data.head()"
      ],
      "metadata": {
        "colab": {
          "base_uri": "https://localhost:8080/",
          "height": 235
        },
        "id": "p9N_pQzO6aqf",
        "outputId": "b1ad968c-3eb9-434b-f8f5-55ccaaac5618"
      },
      "execution_count": null,
      "outputs": [
        {
          "output_type": "execute_result",
          "data": {
            "text/plain": [
              "   number   ID  AGE  PackHistory COPDSEVERITY   MWT1   MWT2  MWT1Best  FEV1  \\\n",
              "0       1   58   77         60.0       SEVERE  120.0  120.0     120.0  1.21   \n",
              "1       2   57   79         50.0     MODERATE  165.0  176.0     176.0  1.09   \n",
              "2       3   62   80         11.0     MODERATE  201.0  180.0     201.0  1.52   \n",
              "3       4  145   56         60.0  VERY SEVERE  210.0  210.0     210.0  0.47   \n",
              "4       5  136   65         68.0       SEVERE  204.0  210.0     210.0  1.07   \n",
              "\n",
              "   FEV1PRED  ...   SGRQ  AGEquartiles  copd  gender  smoking  Diabetes  \\\n",
              "0      36.0  ...  69.55             4     3       1        2         1   \n",
              "1      56.0  ...  44.24             4     2       0        2         1   \n",
              "2      68.0  ...  44.09             4     2       0        2         1   \n",
              "3      14.0  ...  62.04             1     4       1        2         0   \n",
              "4      42.0  ...  75.56             1     3       1        2         0   \n",
              "\n",
              "   muscular  hypertension  AtrialFib  IHD  \n",
              "0         0             0          1    0  \n",
              "1         0             0          1    1  \n",
              "2         0             0          1    0  \n",
              "3         0             1          1    0  \n",
              "4         1             1          0    0  \n",
              "\n",
              "[5 rows x 24 columns]"
            ],
            "text/html": [
              "\n",
              "  <div id=\"df-58d147e3-4180-4dee-8598-51d34aa6f6f5\" class=\"colab-df-container\">\n",
              "    <div>\n",
              "<style scoped>\n",
              "    .dataframe tbody tr th:only-of-type {\n",
              "        vertical-align: middle;\n",
              "    }\n",
              "\n",
              "    .dataframe tbody tr th {\n",
              "        vertical-align: top;\n",
              "    }\n",
              "\n",
              "    .dataframe thead th {\n",
              "        text-align: right;\n",
              "    }\n",
              "</style>\n",
              "<table border=\"1\" class=\"dataframe\">\n",
              "  <thead>\n",
              "    <tr style=\"text-align: right;\">\n",
              "      <th></th>\n",
              "      <th>number</th>\n",
              "      <th>ID</th>\n",
              "      <th>AGE</th>\n",
              "      <th>PackHistory</th>\n",
              "      <th>COPDSEVERITY</th>\n",
              "      <th>MWT1</th>\n",
              "      <th>MWT2</th>\n",
              "      <th>MWT1Best</th>\n",
              "      <th>FEV1</th>\n",
              "      <th>FEV1PRED</th>\n",
              "      <th>...</th>\n",
              "      <th>SGRQ</th>\n",
              "      <th>AGEquartiles</th>\n",
              "      <th>copd</th>\n",
              "      <th>gender</th>\n",
              "      <th>smoking</th>\n",
              "      <th>Diabetes</th>\n",
              "      <th>muscular</th>\n",
              "      <th>hypertension</th>\n",
              "      <th>AtrialFib</th>\n",
              "      <th>IHD</th>\n",
              "    </tr>\n",
              "  </thead>\n",
              "  <tbody>\n",
              "    <tr>\n",
              "      <th>0</th>\n",
              "      <td>1</td>\n",
              "      <td>58</td>\n",
              "      <td>77</td>\n",
              "      <td>60.0</td>\n",
              "      <td>SEVERE</td>\n",
              "      <td>120.0</td>\n",
              "      <td>120.0</td>\n",
              "      <td>120.0</td>\n",
              "      <td>1.21</td>\n",
              "      <td>36.0</td>\n",
              "      <td>...</td>\n",
              "      <td>69.55</td>\n",
              "      <td>4</td>\n",
              "      <td>3</td>\n",
              "      <td>1</td>\n",
              "      <td>2</td>\n",
              "      <td>1</td>\n",
              "      <td>0</td>\n",
              "      <td>0</td>\n",
              "      <td>1</td>\n",
              "      <td>0</td>\n",
              "    </tr>\n",
              "    <tr>\n",
              "      <th>1</th>\n",
              "      <td>2</td>\n",
              "      <td>57</td>\n",
              "      <td>79</td>\n",
              "      <td>50.0</td>\n",
              "      <td>MODERATE</td>\n",
              "      <td>165.0</td>\n",
              "      <td>176.0</td>\n",
              "      <td>176.0</td>\n",
              "      <td>1.09</td>\n",
              "      <td>56.0</td>\n",
              "      <td>...</td>\n",
              "      <td>44.24</td>\n",
              "      <td>4</td>\n",
              "      <td>2</td>\n",
              "      <td>0</td>\n",
              "      <td>2</td>\n",
              "      <td>1</td>\n",
              "      <td>0</td>\n",
              "      <td>0</td>\n",
              "      <td>1</td>\n",
              "      <td>1</td>\n",
              "    </tr>\n",
              "    <tr>\n",
              "      <th>2</th>\n",
              "      <td>3</td>\n",
              "      <td>62</td>\n",
              "      <td>80</td>\n",
              "      <td>11.0</td>\n",
              "      <td>MODERATE</td>\n",
              "      <td>201.0</td>\n",
              "      <td>180.0</td>\n",
              "      <td>201.0</td>\n",
              "      <td>1.52</td>\n",
              "      <td>68.0</td>\n",
              "      <td>...</td>\n",
              "      <td>44.09</td>\n",
              "      <td>4</td>\n",
              "      <td>2</td>\n",
              "      <td>0</td>\n",
              "      <td>2</td>\n",
              "      <td>1</td>\n",
              "      <td>0</td>\n",
              "      <td>0</td>\n",
              "      <td>1</td>\n",
              "      <td>0</td>\n",
              "    </tr>\n",
              "    <tr>\n",
              "      <th>3</th>\n",
              "      <td>4</td>\n",
              "      <td>145</td>\n",
              "      <td>56</td>\n",
              "      <td>60.0</td>\n",
              "      <td>VERY SEVERE</td>\n",
              "      <td>210.0</td>\n",
              "      <td>210.0</td>\n",
              "      <td>210.0</td>\n",
              "      <td>0.47</td>\n",
              "      <td>14.0</td>\n",
              "      <td>...</td>\n",
              "      <td>62.04</td>\n",
              "      <td>1</td>\n",
              "      <td>4</td>\n",
              "      <td>1</td>\n",
              "      <td>2</td>\n",
              "      <td>0</td>\n",
              "      <td>0</td>\n",
              "      <td>1</td>\n",
              "      <td>1</td>\n",
              "      <td>0</td>\n",
              "    </tr>\n",
              "    <tr>\n",
              "      <th>4</th>\n",
              "      <td>5</td>\n",
              "      <td>136</td>\n",
              "      <td>65</td>\n",
              "      <td>68.0</td>\n",
              "      <td>SEVERE</td>\n",
              "      <td>204.0</td>\n",
              "      <td>210.0</td>\n",
              "      <td>210.0</td>\n",
              "      <td>1.07</td>\n",
              "      <td>42.0</td>\n",
              "      <td>...</td>\n",
              "      <td>75.56</td>\n",
              "      <td>1</td>\n",
              "      <td>3</td>\n",
              "      <td>1</td>\n",
              "      <td>2</td>\n",
              "      <td>0</td>\n",
              "      <td>1</td>\n",
              "      <td>1</td>\n",
              "      <td>0</td>\n",
              "      <td>0</td>\n",
              "    </tr>\n",
              "  </tbody>\n",
              "</table>\n",
              "<p>5 rows × 24 columns</p>\n",
              "</div>\n",
              "    <div class=\"colab-df-buttons\">\n",
              "\n",
              "  <div class=\"colab-df-container\">\n",
              "    <button class=\"colab-df-convert\" onclick=\"convertToInteractive('df-58d147e3-4180-4dee-8598-51d34aa6f6f5')\"\n",
              "            title=\"Convert this dataframe to an interactive table.\"\n",
              "            style=\"display:none;\">\n",
              "\n",
              "  <svg xmlns=\"http://www.w3.org/2000/svg\" height=\"24px\" viewBox=\"0 -960 960 960\">\n",
              "    <path d=\"M120-120v-720h720v720H120Zm60-500h600v-160H180v160Zm220 220h160v-160H400v160Zm0 220h160v-160H400v160ZM180-400h160v-160H180v160Zm440 0h160v-160H620v160ZM180-180h160v-160H180v160Zm440 0h160v-160H620v160Z\"/>\n",
              "  </svg>\n",
              "    </button>\n",
              "\n",
              "  <style>\n",
              "    .colab-df-container {\n",
              "      display:flex;\n",
              "      gap: 12px;\n",
              "    }\n",
              "\n",
              "    .colab-df-convert {\n",
              "      background-color: #E8F0FE;\n",
              "      border: none;\n",
              "      border-radius: 50%;\n",
              "      cursor: pointer;\n",
              "      display: none;\n",
              "      fill: #1967D2;\n",
              "      height: 32px;\n",
              "      padding: 0 0 0 0;\n",
              "      width: 32px;\n",
              "    }\n",
              "\n",
              "    .colab-df-convert:hover {\n",
              "      background-color: #E2EBFA;\n",
              "      box-shadow: 0px 1px 2px rgba(60, 64, 67, 0.3), 0px 1px 3px 1px rgba(60, 64, 67, 0.15);\n",
              "      fill: #174EA6;\n",
              "    }\n",
              "\n",
              "    .colab-df-buttons div {\n",
              "      margin-bottom: 4px;\n",
              "    }\n",
              "\n",
              "    [theme=dark] .colab-df-convert {\n",
              "      background-color: #3B4455;\n",
              "      fill: #D2E3FC;\n",
              "    }\n",
              "\n",
              "    [theme=dark] .colab-df-convert:hover {\n",
              "      background-color: #434B5C;\n",
              "      box-shadow: 0px 1px 3px 1px rgba(0, 0, 0, 0.15);\n",
              "      filter: drop-shadow(0px 1px 2px rgba(0, 0, 0, 0.3));\n",
              "      fill: #FFFFFF;\n",
              "    }\n",
              "  </style>\n",
              "\n",
              "    <script>\n",
              "      const buttonEl =\n",
              "        document.querySelector('#df-58d147e3-4180-4dee-8598-51d34aa6f6f5 button.colab-df-convert');\n",
              "      buttonEl.style.display =\n",
              "        google.colab.kernel.accessAllowed ? 'block' : 'none';\n",
              "\n",
              "      async function convertToInteractive(key) {\n",
              "        const element = document.querySelector('#df-58d147e3-4180-4dee-8598-51d34aa6f6f5');\n",
              "        const dataTable =\n",
              "          await google.colab.kernel.invokeFunction('convertToInteractive',\n",
              "                                                    [key], {});\n",
              "        if (!dataTable) return;\n",
              "\n",
              "        const docLinkHtml = 'Like what you see? Visit the ' +\n",
              "          '<a target=\"_blank\" href=https://colab.research.google.com/notebooks/data_table.ipynb>data table notebook</a>'\n",
              "          + ' to learn more about interactive tables.';\n",
              "        element.innerHTML = '';\n",
              "        dataTable['output_type'] = 'display_data';\n",
              "        await google.colab.output.renderOutput(dataTable, element);\n",
              "        const docLink = document.createElement('div');\n",
              "        docLink.innerHTML = docLinkHtml;\n",
              "        element.appendChild(docLink);\n",
              "      }\n",
              "    </script>\n",
              "  </div>\n",
              "\n",
              "\n",
              "<div id=\"df-86f58953-5c5d-4ab5-91c3-51f8eaf9493a\">\n",
              "  <button class=\"colab-df-quickchart\" onclick=\"quickchart('df-86f58953-5c5d-4ab5-91c3-51f8eaf9493a')\"\n",
              "            title=\"Suggest charts\"\n",
              "            style=\"display:none;\">\n",
              "\n",
              "<svg xmlns=\"http://www.w3.org/2000/svg\" height=\"24px\"viewBox=\"0 0 24 24\"\n",
              "     width=\"24px\">\n",
              "    <g>\n",
              "        <path d=\"M19 3H5c-1.1 0-2 .9-2 2v14c0 1.1.9 2 2 2h14c1.1 0 2-.9 2-2V5c0-1.1-.9-2-2-2zM9 17H7v-7h2v7zm4 0h-2V7h2v10zm4 0h-2v-4h2v4z\"/>\n",
              "    </g>\n",
              "</svg>\n",
              "  </button>\n",
              "\n",
              "<style>\n",
              "  .colab-df-quickchart {\n",
              "      --bg-color: #E8F0FE;\n",
              "      --fill-color: #1967D2;\n",
              "      --hover-bg-color: #E2EBFA;\n",
              "      --hover-fill-color: #174EA6;\n",
              "      --disabled-fill-color: #AAA;\n",
              "      --disabled-bg-color: #DDD;\n",
              "  }\n",
              "\n",
              "  [theme=dark] .colab-df-quickchart {\n",
              "      --bg-color: #3B4455;\n",
              "      --fill-color: #D2E3FC;\n",
              "      --hover-bg-color: #434B5C;\n",
              "      --hover-fill-color: #FFFFFF;\n",
              "      --disabled-bg-color: #3B4455;\n",
              "      --disabled-fill-color: #666;\n",
              "  }\n",
              "\n",
              "  .colab-df-quickchart {\n",
              "    background-color: var(--bg-color);\n",
              "    border: none;\n",
              "    border-radius: 50%;\n",
              "    cursor: pointer;\n",
              "    display: none;\n",
              "    fill: var(--fill-color);\n",
              "    height: 32px;\n",
              "    padding: 0;\n",
              "    width: 32px;\n",
              "  }\n",
              "\n",
              "  .colab-df-quickchart:hover {\n",
              "    background-color: var(--hover-bg-color);\n",
              "    box-shadow: 0 1px 2px rgba(60, 64, 67, 0.3), 0 1px 3px 1px rgba(60, 64, 67, 0.15);\n",
              "    fill: var(--button-hover-fill-color);\n",
              "  }\n",
              "\n",
              "  .colab-df-quickchart-complete:disabled,\n",
              "  .colab-df-quickchart-complete:disabled:hover {\n",
              "    background-color: var(--disabled-bg-color);\n",
              "    fill: var(--disabled-fill-color);\n",
              "    box-shadow: none;\n",
              "  }\n",
              "\n",
              "  .colab-df-spinner {\n",
              "    border: 2px solid var(--fill-color);\n",
              "    border-color: transparent;\n",
              "    border-bottom-color: var(--fill-color);\n",
              "    animation:\n",
              "      spin 1s steps(1) infinite;\n",
              "  }\n",
              "\n",
              "  @keyframes spin {\n",
              "    0% {\n",
              "      border-color: transparent;\n",
              "      border-bottom-color: var(--fill-color);\n",
              "      border-left-color: var(--fill-color);\n",
              "    }\n",
              "    20% {\n",
              "      border-color: transparent;\n",
              "      border-left-color: var(--fill-color);\n",
              "      border-top-color: var(--fill-color);\n",
              "    }\n",
              "    30% {\n",
              "      border-color: transparent;\n",
              "      border-left-color: var(--fill-color);\n",
              "      border-top-color: var(--fill-color);\n",
              "      border-right-color: var(--fill-color);\n",
              "    }\n",
              "    40% {\n",
              "      border-color: transparent;\n",
              "      border-right-color: var(--fill-color);\n",
              "      border-top-color: var(--fill-color);\n",
              "    }\n",
              "    60% {\n",
              "      border-color: transparent;\n",
              "      border-right-color: var(--fill-color);\n",
              "    }\n",
              "    80% {\n",
              "      border-color: transparent;\n",
              "      border-right-color: var(--fill-color);\n",
              "      border-bottom-color: var(--fill-color);\n",
              "    }\n",
              "    90% {\n",
              "      border-color: transparent;\n",
              "      border-bottom-color: var(--fill-color);\n",
              "    }\n",
              "  }\n",
              "</style>\n",
              "\n",
              "  <script>\n",
              "    async function quickchart(key) {\n",
              "      const quickchartButtonEl =\n",
              "        document.querySelector('#' + key + ' button');\n",
              "      quickchartButtonEl.disabled = true;  // To prevent multiple clicks.\n",
              "      quickchartButtonEl.classList.add('colab-df-spinner');\n",
              "      try {\n",
              "        const charts = await google.colab.kernel.invokeFunction(\n",
              "            'suggestCharts', [key], {});\n",
              "      } catch (error) {\n",
              "        console.error('Error during call to suggestCharts:', error);\n",
              "      }\n",
              "      quickchartButtonEl.classList.remove('colab-df-spinner');\n",
              "      quickchartButtonEl.classList.add('colab-df-quickchart-complete');\n",
              "    }\n",
              "    (() => {\n",
              "      let quickchartButtonEl =\n",
              "        document.querySelector('#df-86f58953-5c5d-4ab5-91c3-51f8eaf9493a button');\n",
              "      quickchartButtonEl.style.display =\n",
              "        google.colab.kernel.accessAllowed ? 'block' : 'none';\n",
              "    })();\n",
              "  </script>\n",
              "</div>\n",
              "\n",
              "    </div>\n",
              "  </div>\n"
            ]
          },
          "metadata": {},
          "execution_count": 50
        }
      ]
    },
    {
      "cell_type": "code",
      "source": [
        "patient_data.info()"
      ],
      "metadata": {
        "colab": {
          "base_uri": "https://localhost:8080/"
        },
        "id": "mMDyiqlo6dYe",
        "outputId": "fa6a9b75-a1e0-4f11-9ac1-3f305b14c78c"
      },
      "execution_count": null,
      "outputs": [
        {
          "output_type": "stream",
          "name": "stdout",
          "text": [
            "<class 'pandas.core.frame.DataFrame'>\n",
            "RangeIndex: 101 entries, 0 to 100\n",
            "Data columns (total 24 columns):\n",
            " #   Column        Non-Null Count  Dtype  \n",
            "---  ------        --------------  -----  \n",
            " 0   number        101 non-null    int64  \n",
            " 1   ID            101 non-null    int64  \n",
            " 2   AGE           101 non-null    int64  \n",
            " 3   PackHistory   101 non-null    float64\n",
            " 4   COPDSEVERITY  101 non-null    object \n",
            " 5   MWT1          99 non-null     float64\n",
            " 6   MWT2          100 non-null    float64\n",
            " 7   MWT1Best      100 non-null    float64\n",
            " 8   FEV1          101 non-null    float64\n",
            " 9   FEV1PRED      101 non-null    float64\n",
            " 10  FVC           101 non-null    float64\n",
            " 11  FVCPRED       101 non-null    int64  \n",
            " 12  CAT           101 non-null    int64  \n",
            " 13  HAD           101 non-null    float64\n",
            " 14  SGRQ          101 non-null    float64\n",
            " 15  AGEquartiles  101 non-null    int64  \n",
            " 16  copd          101 non-null    int64  \n",
            " 17  gender        101 non-null    int64  \n",
            " 18  smoking       101 non-null    int64  \n",
            " 19  Diabetes      101 non-null    int64  \n",
            " 20  muscular      101 non-null    int64  \n",
            " 21  hypertension  101 non-null    int64  \n",
            " 22  AtrialFib     101 non-null    int64  \n",
            " 23  IHD           101 non-null    int64  \n",
            "dtypes: float64(9), int64(14), object(1)\n",
            "memory usage: 19.1+ KB\n"
          ]
        }
      ]
    },
    {
      "cell_type": "code",
      "source": [
        "patient_data.isnull().sum()"
      ],
      "metadata": {
        "colab": {
          "base_uri": "https://localhost:8080/"
        },
        "id": "p2t6rL166m4A",
        "outputId": "9b836e83-eab3-4668-9ffc-0990c638f5cd"
      },
      "execution_count": null,
      "outputs": [
        {
          "output_type": "execute_result",
          "data": {
            "text/plain": [
              "number          0\n",
              "ID              0\n",
              "AGE             0\n",
              "PackHistory     0\n",
              "COPDSEVERITY    0\n",
              "MWT1            2\n",
              "MWT2            1\n",
              "MWT1Best        1\n",
              "FEV1            0\n",
              "FEV1PRED        0\n",
              "FVC             0\n",
              "FVCPRED         0\n",
              "CAT             0\n",
              "HAD             0\n",
              "SGRQ            0\n",
              "AGEquartiles    0\n",
              "copd            0\n",
              "gender          0\n",
              "smoking         0\n",
              "Diabetes        0\n",
              "muscular        0\n",
              "hypertension    0\n",
              "AtrialFib       0\n",
              "IHD             0\n",
              "dtype: int64"
            ]
          },
          "metadata": {},
          "execution_count": 52
        }
      ]
    },
    {
      "cell_type": "code",
      "source": [
        "patient_data = patient_data.dropna()"
      ],
      "metadata": {
        "id": "ihwR01BE6rD1"
      },
      "execution_count": null,
      "outputs": []
    },
    {
      "cell_type": "code",
      "source": [
        "patient_data.describe()"
      ],
      "metadata": {
        "colab": {
          "base_uri": "https://localhost:8080/",
          "height": 349
        },
        "id": "VYEQuDeI6vQ1",
        "outputId": "66b9bf7a-6e5f-4796-c7a5-694f5c67b600"
      },
      "execution_count": null,
      "outputs": [
        {
          "output_type": "execute_result",
          "data": {
            "text/plain": [
              "           number          ID        AGE  PackHistory        MWT1        MWT2  \\\n",
              "count   99.000000   99.000000  99.000000    99.000000   99.000000   99.000000   \n",
              "mean    50.434343   91.474747  70.121212    39.803030  385.858586  389.797980   \n",
              "std     29.151666   52.035181   7.873065    24.623162  104.744199  108.194456   \n",
              "min      1.000000    1.000000  44.000000     1.000000  120.000000  120.000000   \n",
              "25%     25.500000   48.500000  65.500000    21.500000  300.000000  302.500000   \n",
              "50%     50.000000   87.000000  71.000000    36.000000  419.000000  399.000000   \n",
              "75%     75.500000  143.500000  75.000000    52.500000  460.500000  459.000000   \n",
              "max    100.000000  169.000000  88.000000   109.000000  688.000000  699.000000   \n",
              "\n",
              "         MWT1Best       FEV1    FEV1PRED        FVC  ...       SGRQ  \\\n",
              "count   99.000000  99.000000   99.000000  99.000000  ...  99.000000   \n",
              "mean   398.717172   1.603131   58.400808   2.957778  ...  40.169596   \n",
              "std    107.019552   0.676037   22.446883   0.979259  ...  18.359603   \n",
              "min    120.000000   0.450000    3.290000   1.140000  ...   2.000000   \n",
              "25%    302.500000   1.095000   42.000000   2.275000  ...  28.370000   \n",
              "50%    420.000000   1.600000   60.000000   2.770000  ...  38.210000   \n",
              "75%    465.500000   1.945000   75.000000   3.630000  ...  55.395000   \n",
              "max    699.000000   3.180000  102.000000   5.370000  ...  77.440000   \n",
              "\n",
              "       AGEquartiles       copd     gender    smoking   Diabetes   muscular  \\\n",
              "count     99.000000  99.000000  99.000000  99.000000  99.000000  99.000000   \n",
              "mean       2.474747   2.202020   0.636364   1.838384   0.212121   0.191919   \n",
              "std        1.100496   0.891911   0.483494   0.369972   0.410891   0.395814   \n",
              "min        1.000000   1.000000   0.000000   1.000000   0.000000   0.000000   \n",
              "25%        1.500000   2.000000   0.000000   2.000000   0.000000   0.000000   \n",
              "50%        3.000000   2.000000   1.000000   2.000000   0.000000   0.000000   \n",
              "75%        3.000000   3.000000   1.000000   2.000000   0.000000   0.000000   \n",
              "max        4.000000   4.000000   1.000000   2.000000   1.000000   1.000000   \n",
              "\n",
              "       hypertension  AtrialFib        IHD  \n",
              "count     99.000000  99.000000  99.000000  \n",
              "mean       0.111111   0.202020   0.090909  \n",
              "std        0.315869   0.403551   0.288943  \n",
              "min        0.000000   0.000000   0.000000  \n",
              "25%        0.000000   0.000000   0.000000  \n",
              "50%        0.000000   0.000000   0.000000  \n",
              "75%        0.000000   0.000000   0.000000  \n",
              "max        1.000000   1.000000   1.000000  \n",
              "\n",
              "[8 rows x 23 columns]"
            ],
            "text/html": [
              "\n",
              "  <div id=\"df-05564623-6e9c-4d39-af84-bace6754d5b7\" class=\"colab-df-container\">\n",
              "    <div>\n",
              "<style scoped>\n",
              "    .dataframe tbody tr th:only-of-type {\n",
              "        vertical-align: middle;\n",
              "    }\n",
              "\n",
              "    .dataframe tbody tr th {\n",
              "        vertical-align: top;\n",
              "    }\n",
              "\n",
              "    .dataframe thead th {\n",
              "        text-align: right;\n",
              "    }\n",
              "</style>\n",
              "<table border=\"1\" class=\"dataframe\">\n",
              "  <thead>\n",
              "    <tr style=\"text-align: right;\">\n",
              "      <th></th>\n",
              "      <th>number</th>\n",
              "      <th>ID</th>\n",
              "      <th>AGE</th>\n",
              "      <th>PackHistory</th>\n",
              "      <th>MWT1</th>\n",
              "      <th>MWT2</th>\n",
              "      <th>MWT1Best</th>\n",
              "      <th>FEV1</th>\n",
              "      <th>FEV1PRED</th>\n",
              "      <th>FVC</th>\n",
              "      <th>...</th>\n",
              "      <th>SGRQ</th>\n",
              "      <th>AGEquartiles</th>\n",
              "      <th>copd</th>\n",
              "      <th>gender</th>\n",
              "      <th>smoking</th>\n",
              "      <th>Diabetes</th>\n",
              "      <th>muscular</th>\n",
              "      <th>hypertension</th>\n",
              "      <th>AtrialFib</th>\n",
              "      <th>IHD</th>\n",
              "    </tr>\n",
              "  </thead>\n",
              "  <tbody>\n",
              "    <tr>\n",
              "      <th>count</th>\n",
              "      <td>99.000000</td>\n",
              "      <td>99.000000</td>\n",
              "      <td>99.000000</td>\n",
              "      <td>99.000000</td>\n",
              "      <td>99.000000</td>\n",
              "      <td>99.000000</td>\n",
              "      <td>99.000000</td>\n",
              "      <td>99.000000</td>\n",
              "      <td>99.000000</td>\n",
              "      <td>99.000000</td>\n",
              "      <td>...</td>\n",
              "      <td>99.000000</td>\n",
              "      <td>99.000000</td>\n",
              "      <td>99.000000</td>\n",
              "      <td>99.000000</td>\n",
              "      <td>99.000000</td>\n",
              "      <td>99.000000</td>\n",
              "      <td>99.000000</td>\n",
              "      <td>99.000000</td>\n",
              "      <td>99.000000</td>\n",
              "      <td>99.000000</td>\n",
              "    </tr>\n",
              "    <tr>\n",
              "      <th>mean</th>\n",
              "      <td>50.434343</td>\n",
              "      <td>91.474747</td>\n",
              "      <td>70.121212</td>\n",
              "      <td>39.803030</td>\n",
              "      <td>385.858586</td>\n",
              "      <td>389.797980</td>\n",
              "      <td>398.717172</td>\n",
              "      <td>1.603131</td>\n",
              "      <td>58.400808</td>\n",
              "      <td>2.957778</td>\n",
              "      <td>...</td>\n",
              "      <td>40.169596</td>\n",
              "      <td>2.474747</td>\n",
              "      <td>2.202020</td>\n",
              "      <td>0.636364</td>\n",
              "      <td>1.838384</td>\n",
              "      <td>0.212121</td>\n",
              "      <td>0.191919</td>\n",
              "      <td>0.111111</td>\n",
              "      <td>0.202020</td>\n",
              "      <td>0.090909</td>\n",
              "    </tr>\n",
              "    <tr>\n",
              "      <th>std</th>\n",
              "      <td>29.151666</td>\n",
              "      <td>52.035181</td>\n",
              "      <td>7.873065</td>\n",
              "      <td>24.623162</td>\n",
              "      <td>104.744199</td>\n",
              "      <td>108.194456</td>\n",
              "      <td>107.019552</td>\n",
              "      <td>0.676037</td>\n",
              "      <td>22.446883</td>\n",
              "      <td>0.979259</td>\n",
              "      <td>...</td>\n",
              "      <td>18.359603</td>\n",
              "      <td>1.100496</td>\n",
              "      <td>0.891911</td>\n",
              "      <td>0.483494</td>\n",
              "      <td>0.369972</td>\n",
              "      <td>0.410891</td>\n",
              "      <td>0.395814</td>\n",
              "      <td>0.315869</td>\n",
              "      <td>0.403551</td>\n",
              "      <td>0.288943</td>\n",
              "    </tr>\n",
              "    <tr>\n",
              "      <th>min</th>\n",
              "      <td>1.000000</td>\n",
              "      <td>1.000000</td>\n",
              "      <td>44.000000</td>\n",
              "      <td>1.000000</td>\n",
              "      <td>120.000000</td>\n",
              "      <td>120.000000</td>\n",
              "      <td>120.000000</td>\n",
              "      <td>0.450000</td>\n",
              "      <td>3.290000</td>\n",
              "      <td>1.140000</td>\n",
              "      <td>...</td>\n",
              "      <td>2.000000</td>\n",
              "      <td>1.000000</td>\n",
              "      <td>1.000000</td>\n",
              "      <td>0.000000</td>\n",
              "      <td>1.000000</td>\n",
              "      <td>0.000000</td>\n",
              "      <td>0.000000</td>\n",
              "      <td>0.000000</td>\n",
              "      <td>0.000000</td>\n",
              "      <td>0.000000</td>\n",
              "    </tr>\n",
              "    <tr>\n",
              "      <th>25%</th>\n",
              "      <td>25.500000</td>\n",
              "      <td>48.500000</td>\n",
              "      <td>65.500000</td>\n",
              "      <td>21.500000</td>\n",
              "      <td>300.000000</td>\n",
              "      <td>302.500000</td>\n",
              "      <td>302.500000</td>\n",
              "      <td>1.095000</td>\n",
              "      <td>42.000000</td>\n",
              "      <td>2.275000</td>\n",
              "      <td>...</td>\n",
              "      <td>28.370000</td>\n",
              "      <td>1.500000</td>\n",
              "      <td>2.000000</td>\n",
              "      <td>0.000000</td>\n",
              "      <td>2.000000</td>\n",
              "      <td>0.000000</td>\n",
              "      <td>0.000000</td>\n",
              "      <td>0.000000</td>\n",
              "      <td>0.000000</td>\n",
              "      <td>0.000000</td>\n",
              "    </tr>\n",
              "    <tr>\n",
              "      <th>50%</th>\n",
              "      <td>50.000000</td>\n",
              "      <td>87.000000</td>\n",
              "      <td>71.000000</td>\n",
              "      <td>36.000000</td>\n",
              "      <td>419.000000</td>\n",
              "      <td>399.000000</td>\n",
              "      <td>420.000000</td>\n",
              "      <td>1.600000</td>\n",
              "      <td>60.000000</td>\n",
              "      <td>2.770000</td>\n",
              "      <td>...</td>\n",
              "      <td>38.210000</td>\n",
              "      <td>3.000000</td>\n",
              "      <td>2.000000</td>\n",
              "      <td>1.000000</td>\n",
              "      <td>2.000000</td>\n",
              "      <td>0.000000</td>\n",
              "      <td>0.000000</td>\n",
              "      <td>0.000000</td>\n",
              "      <td>0.000000</td>\n",
              "      <td>0.000000</td>\n",
              "    </tr>\n",
              "    <tr>\n",
              "      <th>75%</th>\n",
              "      <td>75.500000</td>\n",
              "      <td>143.500000</td>\n",
              "      <td>75.000000</td>\n",
              "      <td>52.500000</td>\n",
              "      <td>460.500000</td>\n",
              "      <td>459.000000</td>\n",
              "      <td>465.500000</td>\n",
              "      <td>1.945000</td>\n",
              "      <td>75.000000</td>\n",
              "      <td>3.630000</td>\n",
              "      <td>...</td>\n",
              "      <td>55.395000</td>\n",
              "      <td>3.000000</td>\n",
              "      <td>3.000000</td>\n",
              "      <td>1.000000</td>\n",
              "      <td>2.000000</td>\n",
              "      <td>0.000000</td>\n",
              "      <td>0.000000</td>\n",
              "      <td>0.000000</td>\n",
              "      <td>0.000000</td>\n",
              "      <td>0.000000</td>\n",
              "    </tr>\n",
              "    <tr>\n",
              "      <th>max</th>\n",
              "      <td>100.000000</td>\n",
              "      <td>169.000000</td>\n",
              "      <td>88.000000</td>\n",
              "      <td>109.000000</td>\n",
              "      <td>688.000000</td>\n",
              "      <td>699.000000</td>\n",
              "      <td>699.000000</td>\n",
              "      <td>3.180000</td>\n",
              "      <td>102.000000</td>\n",
              "      <td>5.370000</td>\n",
              "      <td>...</td>\n",
              "      <td>77.440000</td>\n",
              "      <td>4.000000</td>\n",
              "      <td>4.000000</td>\n",
              "      <td>1.000000</td>\n",
              "      <td>2.000000</td>\n",
              "      <td>1.000000</td>\n",
              "      <td>1.000000</td>\n",
              "      <td>1.000000</td>\n",
              "      <td>1.000000</td>\n",
              "      <td>1.000000</td>\n",
              "    </tr>\n",
              "  </tbody>\n",
              "</table>\n",
              "<p>8 rows × 23 columns</p>\n",
              "</div>\n",
              "    <div class=\"colab-df-buttons\">\n",
              "\n",
              "  <div class=\"colab-df-container\">\n",
              "    <button class=\"colab-df-convert\" onclick=\"convertToInteractive('df-05564623-6e9c-4d39-af84-bace6754d5b7')\"\n",
              "            title=\"Convert this dataframe to an interactive table.\"\n",
              "            style=\"display:none;\">\n",
              "\n",
              "  <svg xmlns=\"http://www.w3.org/2000/svg\" height=\"24px\" viewBox=\"0 -960 960 960\">\n",
              "    <path d=\"M120-120v-720h720v720H120Zm60-500h600v-160H180v160Zm220 220h160v-160H400v160Zm0 220h160v-160H400v160ZM180-400h160v-160H180v160Zm440 0h160v-160H620v160ZM180-180h160v-160H180v160Zm440 0h160v-160H620v160Z\"/>\n",
              "  </svg>\n",
              "    </button>\n",
              "\n",
              "  <style>\n",
              "    .colab-df-container {\n",
              "      display:flex;\n",
              "      gap: 12px;\n",
              "    }\n",
              "\n",
              "    .colab-df-convert {\n",
              "      background-color: #E8F0FE;\n",
              "      border: none;\n",
              "      border-radius: 50%;\n",
              "      cursor: pointer;\n",
              "      display: none;\n",
              "      fill: #1967D2;\n",
              "      height: 32px;\n",
              "      padding: 0 0 0 0;\n",
              "      width: 32px;\n",
              "    }\n",
              "\n",
              "    .colab-df-convert:hover {\n",
              "      background-color: #E2EBFA;\n",
              "      box-shadow: 0px 1px 2px rgba(60, 64, 67, 0.3), 0px 1px 3px 1px rgba(60, 64, 67, 0.15);\n",
              "      fill: #174EA6;\n",
              "    }\n",
              "\n",
              "    .colab-df-buttons div {\n",
              "      margin-bottom: 4px;\n",
              "    }\n",
              "\n",
              "    [theme=dark] .colab-df-convert {\n",
              "      background-color: #3B4455;\n",
              "      fill: #D2E3FC;\n",
              "    }\n",
              "\n",
              "    [theme=dark] .colab-df-convert:hover {\n",
              "      background-color: #434B5C;\n",
              "      box-shadow: 0px 1px 3px 1px rgba(0, 0, 0, 0.15);\n",
              "      filter: drop-shadow(0px 1px 2px rgba(0, 0, 0, 0.3));\n",
              "      fill: #FFFFFF;\n",
              "    }\n",
              "  </style>\n",
              "\n",
              "    <script>\n",
              "      const buttonEl =\n",
              "        document.querySelector('#df-05564623-6e9c-4d39-af84-bace6754d5b7 button.colab-df-convert');\n",
              "      buttonEl.style.display =\n",
              "        google.colab.kernel.accessAllowed ? 'block' : 'none';\n",
              "\n",
              "      async function convertToInteractive(key) {\n",
              "        const element = document.querySelector('#df-05564623-6e9c-4d39-af84-bace6754d5b7');\n",
              "        const dataTable =\n",
              "          await google.colab.kernel.invokeFunction('convertToInteractive',\n",
              "                                                    [key], {});\n",
              "        if (!dataTable) return;\n",
              "\n",
              "        const docLinkHtml = 'Like what you see? Visit the ' +\n",
              "          '<a target=\"_blank\" href=https://colab.research.google.com/notebooks/data_table.ipynb>data table notebook</a>'\n",
              "          + ' to learn more about interactive tables.';\n",
              "        element.innerHTML = '';\n",
              "        dataTable['output_type'] = 'display_data';\n",
              "        await google.colab.output.renderOutput(dataTable, element);\n",
              "        const docLink = document.createElement('div');\n",
              "        docLink.innerHTML = docLinkHtml;\n",
              "        element.appendChild(docLink);\n",
              "      }\n",
              "    </script>\n",
              "  </div>\n",
              "\n",
              "\n",
              "<div id=\"df-8e682fd4-1a3d-460f-a077-b14fe91cf5c3\">\n",
              "  <button class=\"colab-df-quickchart\" onclick=\"quickchart('df-8e682fd4-1a3d-460f-a077-b14fe91cf5c3')\"\n",
              "            title=\"Suggest charts\"\n",
              "            style=\"display:none;\">\n",
              "\n",
              "<svg xmlns=\"http://www.w3.org/2000/svg\" height=\"24px\"viewBox=\"0 0 24 24\"\n",
              "     width=\"24px\">\n",
              "    <g>\n",
              "        <path d=\"M19 3H5c-1.1 0-2 .9-2 2v14c0 1.1.9 2 2 2h14c1.1 0 2-.9 2-2V5c0-1.1-.9-2-2-2zM9 17H7v-7h2v7zm4 0h-2V7h2v10zm4 0h-2v-4h2v4z\"/>\n",
              "    </g>\n",
              "</svg>\n",
              "  </button>\n",
              "\n",
              "<style>\n",
              "  .colab-df-quickchart {\n",
              "      --bg-color: #E8F0FE;\n",
              "      --fill-color: #1967D2;\n",
              "      --hover-bg-color: #E2EBFA;\n",
              "      --hover-fill-color: #174EA6;\n",
              "      --disabled-fill-color: #AAA;\n",
              "      --disabled-bg-color: #DDD;\n",
              "  }\n",
              "\n",
              "  [theme=dark] .colab-df-quickchart {\n",
              "      --bg-color: #3B4455;\n",
              "      --fill-color: #D2E3FC;\n",
              "      --hover-bg-color: #434B5C;\n",
              "      --hover-fill-color: #FFFFFF;\n",
              "      --disabled-bg-color: #3B4455;\n",
              "      --disabled-fill-color: #666;\n",
              "  }\n",
              "\n",
              "  .colab-df-quickchart {\n",
              "    background-color: var(--bg-color);\n",
              "    border: none;\n",
              "    border-radius: 50%;\n",
              "    cursor: pointer;\n",
              "    display: none;\n",
              "    fill: var(--fill-color);\n",
              "    height: 32px;\n",
              "    padding: 0;\n",
              "    width: 32px;\n",
              "  }\n",
              "\n",
              "  .colab-df-quickchart:hover {\n",
              "    background-color: var(--hover-bg-color);\n",
              "    box-shadow: 0 1px 2px rgba(60, 64, 67, 0.3), 0 1px 3px 1px rgba(60, 64, 67, 0.15);\n",
              "    fill: var(--button-hover-fill-color);\n",
              "  }\n",
              "\n",
              "  .colab-df-quickchart-complete:disabled,\n",
              "  .colab-df-quickchart-complete:disabled:hover {\n",
              "    background-color: var(--disabled-bg-color);\n",
              "    fill: var(--disabled-fill-color);\n",
              "    box-shadow: none;\n",
              "  }\n",
              "\n",
              "  .colab-df-spinner {\n",
              "    border: 2px solid var(--fill-color);\n",
              "    border-color: transparent;\n",
              "    border-bottom-color: var(--fill-color);\n",
              "    animation:\n",
              "      spin 1s steps(1) infinite;\n",
              "  }\n",
              "\n",
              "  @keyframes spin {\n",
              "    0% {\n",
              "      border-color: transparent;\n",
              "      border-bottom-color: var(--fill-color);\n",
              "      border-left-color: var(--fill-color);\n",
              "    }\n",
              "    20% {\n",
              "      border-color: transparent;\n",
              "      border-left-color: var(--fill-color);\n",
              "      border-top-color: var(--fill-color);\n",
              "    }\n",
              "    30% {\n",
              "      border-color: transparent;\n",
              "      border-left-color: var(--fill-color);\n",
              "      border-top-color: var(--fill-color);\n",
              "      border-right-color: var(--fill-color);\n",
              "    }\n",
              "    40% {\n",
              "      border-color: transparent;\n",
              "      border-right-color: var(--fill-color);\n",
              "      border-top-color: var(--fill-color);\n",
              "    }\n",
              "    60% {\n",
              "      border-color: transparent;\n",
              "      border-right-color: var(--fill-color);\n",
              "    }\n",
              "    80% {\n",
              "      border-color: transparent;\n",
              "      border-right-color: var(--fill-color);\n",
              "      border-bottom-color: var(--fill-color);\n",
              "    }\n",
              "    90% {\n",
              "      border-color: transparent;\n",
              "      border-bottom-color: var(--fill-color);\n",
              "    }\n",
              "  }\n",
              "</style>\n",
              "\n",
              "  <script>\n",
              "    async function quickchart(key) {\n",
              "      const quickchartButtonEl =\n",
              "        document.querySelector('#' + key + ' button');\n",
              "      quickchartButtonEl.disabled = true;  // To prevent multiple clicks.\n",
              "      quickchartButtonEl.classList.add('colab-df-spinner');\n",
              "      try {\n",
              "        const charts = await google.colab.kernel.invokeFunction(\n",
              "            'suggestCharts', [key], {});\n",
              "      } catch (error) {\n",
              "        console.error('Error during call to suggestCharts:', error);\n",
              "      }\n",
              "      quickchartButtonEl.classList.remove('colab-df-spinner');\n",
              "      quickchartButtonEl.classList.add('colab-df-quickchart-complete');\n",
              "    }\n",
              "    (() => {\n",
              "      let quickchartButtonEl =\n",
              "        document.querySelector('#df-8e682fd4-1a3d-460f-a077-b14fe91cf5c3 button');\n",
              "      quickchartButtonEl.style.display =\n",
              "        google.colab.kernel.accessAllowed ? 'block' : 'none';\n",
              "    })();\n",
              "  </script>\n",
              "</div>\n",
              "\n",
              "    </div>\n",
              "  </div>\n"
            ]
          },
          "metadata": {},
          "execution_count": 54
        }
      ]
    },
    {
      "cell_type": "code",
      "source": [
        "patient_data['COPDSEVERITY'].value_counts()"
      ],
      "metadata": {
        "colab": {
          "base_uri": "https://localhost:8080/"
        },
        "id": "Qok-Qpvb6yg_",
        "outputId": "588c0140-8f09-4868-de39-a44450e66fc9"
      },
      "execution_count": null,
      "outputs": [
        {
          "output_type": "execute_result",
          "data": {
            "text/plain": [
              "MODERATE       41\n",
              "SEVERE         27\n",
              "MILD           23\n",
              "VERY SEVERE     8\n",
              "Name: COPDSEVERITY, dtype: int64"
            ]
          },
          "metadata": {},
          "execution_count": 55
        }
      ]
    },
    {
      "cell_type": "code",
      "source": [
        "patient_data['AGE'].value_counts()"
      ],
      "metadata": {
        "colab": {
          "base_uri": "https://localhost:8080/"
        },
        "id": "wnrYAzeR73ek",
        "outputId": "6ff1f43c-2c46-4298-9c30-6351572888e6"
      },
      "execution_count": null,
      "outputs": [
        {
          "output_type": "execute_result",
          "data": {
            "text/plain": [
              "73    8\n",
              "75    8\n",
              "72    7\n",
              "67    6\n",
              "78    5\n",
              "68    5\n",
              "65    5\n",
              "71    5\n",
              "74    4\n",
              "69    4\n",
              "70    4\n",
              "76    4\n",
              "64    4\n",
              "63    3\n",
              "80    3\n",
              "82    2\n",
              "62    2\n",
              "81    2\n",
              "77    2\n",
              "55    2\n",
              "83    2\n",
              "44    1\n",
              "88    1\n",
              "53    1\n",
              "79    1\n",
              "59    1\n",
              "66    1\n",
              "56    1\n",
              "49    1\n",
              "61    1\n",
              "60    1\n",
              "52    1\n",
              "54    1\n",
              "Name: AGE, dtype: int64"
            ]
          },
          "metadata": {},
          "execution_count": 56
        }
      ]
    },
    {
      "cell_type": "code",
      "source": [
        "sns.set()\n",
        "plt.figure(figsize=(15,15))\n",
        "sns.countplot(x='COPDSEVERITY',hue = 'AGE', data = patient_data)\n",
        "plt.title('COPD Severity')\n",
        "plt.show()"
      ],
      "metadata": {
        "colab": {
          "base_uri": "https://localhost:8080/",
          "height": 1000
        },
        "id": "qH-2c-Ln7Q3K",
        "outputId": "907ccc3f-f8a8-46aa-b183-4107bd309167"
      },
      "execution_count": null,
      "outputs": [
        {
          "output_type": "display_data",
          "data": {
            "text/plain": [
              "<Figure size 1500x1500 with 1 Axes>"
            ],
            "image/png": "[encoded data removed]"
          },
          "metadata": {}
        }
      ]
    },
    {
      "cell_type": "code",
      "source": [
        "plt.figure(figsize=(5,5))\n",
        "sns.histplot(patient_data['PackHistory'])\n",
        "plt.title('pack history')\n",
        "plt.show()"
      ],
      "metadata": {
        "colab": {
          "base_uri": "https://localhost:8080/",
          "height": 496
        },
        "id": "rl3PDcNM8lZK",
        "outputId": "3bfc1986-dfa0-44a8-df8f-bcf8d01322f6"
      },
      "execution_count": null,
      "outputs": [
        {
          "output_type": "display_data",
          "data": {
            "text/plain": [
              "<Figure size 500x500 with 1 Axes>"
            ],
            "image/png": "[encoded data removed]"
          },
          "metadata": {}
        }
      ]
    },
    {
      "cell_type": "code",
      "source": [
        "plt.figure(figsize=(5,5))\n",
        "sns.barplot(x='COPDSEVERITY',y = 'AGE',data=patient_data)\n",
        "plt.show()"
      ],
      "metadata": {
        "colab": {
          "base_uri": "https://localhost:8080/",
          "height": 473
        },
        "id": "OIcRi-Fw9kzH",
        "outputId": "fe48abb4-0779-4b19-e381-4aacbf02f074"
      },
      "execution_count": null,
      "outputs": [
        {
          "output_type": "display_data",
          "data": {
            "text/plain": [
              "<Figure size 500x500 with 1 Axes>"
            ],
            "image/png": "[encoded data removed]"
          },
          "metadata": {}
        }
      ]
    },
    {
      "cell_type": "code",
      "source": [
        "patient_data.replace({'COPDSEVERITY':{'SEVERE':0,'MODERATE':1,'VERY SEVERE':2,'MILD':3}},inplace=True)\n",
        "patient_data"
      ],
      "metadata": {
        "colab": {
          "base_uri": "https://localhost:8080/",
          "height": 533
        },
        "id": "W_DGskZz_YPD",
        "outputId": "5ff437dc-9d6e-4e03-dc5e-978b4a6b34a4"
      },
      "execution_count": null,
      "outputs": [
        {
          "output_type": "stream",
          "name": "stderr",
          "text": [
            "<ipython-input-60-ac15fe671880>:1: SettingWithCopyWarning: \n",
            "A value is trying to be set on a copy of a slice from a DataFrame.\n",
            "Try using .loc[row_indexer,col_indexer] = value instead\n",
            "\n",
            "See the caveats in the documentation: https://pandas.pydata.org/pandas-docs/stable/user_guide/indexing.html#returning-a-view-versus-a-copy\n",
            "  patient_data.replace({'COPDSEVERITY':{'SEVERE':0,'MODERATE':1,'VERY SEVERE':2,'MILD':3}},inplace=True)\n"
          ]
        },
        {
          "output_type": "execute_result",
          "data": {
            "text/plain": [
              "    number   ID  AGE  PackHistory  COPDSEVERITY   MWT1   MWT2  MWT1Best  FEV1  \\\n",
              "0        1   58   77         60.0             0  120.0  120.0     120.0  1.21   \n",
              "1        2   57   79         50.0             1  165.0  176.0     176.0  1.09   \n",
              "2        3   62   80         11.0             1  201.0  180.0     201.0  1.52   \n",
              "3        4  145   56         60.0             2  210.0  210.0     210.0  0.47   \n",
              "4        5  136   65         68.0             0  204.0  210.0     210.0  1.07   \n",
              "..     ...  ...  ...          ...           ...    ...    ...       ...   ...   \n",
              "95      96   12   72         30.0             1  558.0  563.0     558.0  1.61   \n",
              "96      97   10   68         25.0             3  511.0  575.0     575.0  2.70   \n",
              "97      98   43   75         40.0             3  576.0  577.0     577.0  2.90   \n",
              "98      99   74   68         30.0             1  468.0  582.0     582.0  1.65   \n",
              "99     100  108   54         30.0             0  688.0  699.0     699.0  1.72   \n",
              "\n",
              "    FEV1PRED  ...   SGRQ  AGEquartiles  copd  gender  smoking  Diabetes  \\\n",
              "0       36.0  ...  69.55             4     3       1        2         1   \n",
              "1       56.0  ...  44.24             4     2       0        2         1   \n",
              "2       68.0  ...  44.09             4     2       0        2         1   \n",
              "3       14.0  ...  62.04             1     4       1        2         0   \n",
              "4       42.0  ...  75.56             1     3       1        2         0   \n",
              "..       ...  ...    ...           ...   ...     ...      ...       ...   \n",
              "95      61.0  ...  34.64             3     2       1        2         0   \n",
              "96      98.0  ...  35.84             2     1       1        2         0   \n",
              "97      93.0  ...  15.05             3     1       1        2         0   \n",
              "98      67.0  ...  19.70             2     2       0        2         0   \n",
              "99      44.0  ...  20.55             1     3       1        2         0   \n",
              "\n",
              "    muscular  hypertension  AtrialFib  IHD  \n",
              "0          0             0          1    0  \n",
              "1          0             0          1    1  \n",
              "2          0             0          1    0  \n",
              "3          0             1          1    0  \n",
              "4          1             1          0    0  \n",
              "..       ...           ...        ...  ...  \n",
              "95         0             0          0    1  \n",
              "96         1             0          0    0  \n",
              "97         1             0          0    1  \n",
              "98         0             1          0    0  \n",
              "99         0             0          0    0  \n",
              "\n",
              "[99 rows x 24 columns]"
            ],
            "text/html": [
              "\n",
              "  <div id=\"df-132eb0b0-b61e-478b-9846-b9a8e196d608\" class=\"colab-df-container\">\n",
              "    <div>\n",
              "<style scoped>\n",
              "    .dataframe tbody tr th:only-of-type {\n",
              "        vertical-align: middle;\n",
              "    }\n",
              "\n",
              "    .dataframe tbody tr th {\n",
              "        vertical-align: top;\n",
              "    }\n",
              "\n",
              "    .dataframe thead th {\n",
              "        text-align: right;\n",
              "    }\n",
              "</style>\n",
              "<table border=\"1\" class=\"dataframe\">\n",
              "  <thead>\n",
              "    <tr style=\"text-align: right;\">\n",
              "      <th></th>\n",
              "      <th>number</th>\n",
              "      <th>ID</th>\n",
              "      <th>AGE</th>\n",
              "      <th>PackHistory</th>\n",
              "      <th>COPDSEVERITY</th>\n",
              "      <th>MWT1</th>\n",
              "      <th>MWT2</th>\n",
              "      <th>MWT1Best</th>\n",
              "      <th>FEV1</th>\n",
              "      <th>FEV1PRED</th>\n",
              "      <th>...</th>\n",
              "      <th>SGRQ</th>\n",
              "      <th>AGEquartiles</th>\n",
              "      <th>copd</th>\n",
              "      <th>gender</th>\n",
              "      <th>smoking</th>\n",
              "      <th>Diabetes</th>\n",
              "      <th>muscular</th>\n",
              "      <th>hypertension</th>\n",
              "      <th>AtrialFib</th>\n",
              "      <th>IHD</th>\n",
              "    </tr>\n",
              "  </thead>\n",
              "  <tbody>\n",
              "    <tr>\n",
              "      <th>0</th>\n",
              "      <td>1</td>\n",
              "      <td>58</td>\n",
              "      <td>77</td>\n",
              "      <td>60.0</td>\n",
              "      <td>0</td>\n",
              "      <td>120.0</td>\n",
              "      <td>120.0</td>\n",
              "      <td>120.0</td>\n",
              "      <td>1.21</td>\n",
              "      <td>36.0</td>\n",
              "      <td>...</td>\n",
              "      <td>69.55</td>\n",
              "      <td>4</td>\n",
              "      <td>3</td>\n",
              "      <td>1</td>\n",
              "      <td>2</td>\n",
              "      <td>1</td>\n",
              "      <td>0</td>\n",
              "      <td>0</td>\n",
              "      <td>1</td>\n",
              "      <td>0</td>\n",
              "    </tr>\n",
              "    <tr>\n",
              "      <th>1</th>\n",
              "      <td>2</td>\n",
              "      <td>57</td>\n",
              "      <td>79</td>\n",
              "      <td>50.0</td>\n",
              "      <td>1</td>\n",
              "      <td>165.0</td>\n",
              "      <td>176.0</td>\n",
              "      <td>176.0</td>\n",
              "      <td>1.09</td>\n",
              "      <td>56.0</td>\n",
              "      <td>...</td>\n",
              "      <td>44.24</td>\n",
              "      <td>4</td>\n",
              "      <td>2</td>\n",
              "      <td>0</td>\n",
              "      <td>2</td>\n",
              "      <td>1</td>\n",
              "      <td>0</td>\n",
              "      <td>0</td>\n",
              "      <td>1</td>\n",
              "      <td>1</td>\n",
              "    </tr>\n",
              "    <tr>\n",
              "      <th>2</th>\n",
              "      <td>3</td>\n",
              "      <td>62</td>\n",
              "      <td>80</td>\n",
              "      <td>11.0</td>\n",
              "      <td>1</td>\n",
              "      <td>201.0</td>\n",
              "      <td>180.0</td>\n",
              "      <td>201.0</td>\n",
              "      <td>1.52</td>\n",
              "      <td>68.0</td>\n",
              "      <td>...</td>\n",
              "      <td>44.09</td>\n",
              "      <td>4</td>\n",
              "      <td>2</td>\n",
              "      <td>0</td>\n",
              "      <td>2</td>\n",
              "      <td>1</td>\n",
              "      <td>0</td>\n",
              "      <td>0</td>\n",
              "      <td>1</td>\n",
              "      <td>0</td>\n",
              "    </tr>\n",
              "    <tr>\n",
              "      <th>3</th>\n",
              "      <td>4</td>\n",
              "      <td>145</td>\n",
              "      <td>56</td>\n",
              "      <td>60.0</td>\n",
              "      <td>2</td>\n",
              "      <td>210.0</td>\n",
              "      <td>210.0</td>\n",
              "      <td>210.0</td>\n",
              "      <td>0.47</td>\n",
              "      <td>14.0</td>\n",
              "      <td>...</td>\n",
              "      <td>62.04</td>\n",
              "      <td>1</td>\n",
              "      <td>4</td>\n",
              "      <td>1</td>\n",
              "      <td>2</td>\n",
              "      <td>0</td>\n",
              "      <td>0</td>\n",
              "      <td>1</td>\n",
              "      <td>1</td>\n",
              "      <td>0</td>\n",
              "    </tr>\n",
              "    <tr>\n",
              "      <th>4</th>\n",
              "      <td>5</td>\n",
              "      <td>136</td>\n",
              "      <td>65</td>\n",
              "      <td>68.0</td>\n",
              "      <td>0</td>\n",
              "      <td>204.0</td>\n",
              "      <td>210.0</td>\n",
              "      <td>210.0</td>\n",
              "      <td>1.07</td>\n",
              "      <td>42.0</td>\n",
              "      <td>...</td>\n",
              "      <td>75.56</td>\n",
              "      <td>1</td>\n",
              "      <td>3</td>\n",
              "      <td>1</td>\n",
              "      <td>2</td>\n",
              "      <td>0</td>\n",
              "      <td>1</td>\n",
              "      <td>1</td>\n",
              "      <td>0</td>\n",
              "      <td>0</td>\n",
              "    </tr>\n",
              "    <tr>\n",
              "      <th>...</th>\n",
              "      <td>...</td>\n",
              "      <td>...</td>\n",
              "      <td>...</td>\n",
              "      <td>...</td>\n",
              "      <td>...</td>\n",
              "      <td>...</td>\n",
              "      <td>...</td>\n",
              "      <td>...</td>\n",
              "      <td>...</td>\n",
              "      <td>...</td>\n",
              "      <td>...</td>\n",
              "      <td>...</td>\n",
              "      <td>...</td>\n",
              "      <td>...</td>\n",
              "      <td>...</td>\n",
              "      <td>...</td>\n",
              "      <td>...</td>\n",
              "      <td>...</td>\n",
              "      <td>...</td>\n",
              "      <td>...</td>\n",
              "      <td>...</td>\n",
              "    </tr>\n",
              "    <tr>\n",
              "      <th>95</th>\n",
              "      <td>96</td>\n",
              "      <td>12</td>\n",
              "      <td>72</td>\n",
              "      <td>30.0</td>\n",
              "      <td>1</td>\n",
              "      <td>558.0</td>\n",
              "      <td>563.0</td>\n",
              "      <td>558.0</td>\n",
              "      <td>1.61</td>\n",
              "      <td>61.0</td>\n",
              "      <td>...</td>\n",
              "      <td>34.64</td>\n",
              "      <td>3</td>\n",
              "      <td>2</td>\n",
              "      <td>1</td>\n",
              "      <td>2</td>\n",
              "      <td>0</td>\n",
              "      <td>0</td>\n",
              "      <td>0</td>\n",
              "      <td>0</td>\n",
              "      <td>1</td>\n",
              "    </tr>\n",
              "    <tr>\n",
              "      <th>96</th>\n",
              "      <td>97</td>\n",
              "      <td>10</td>\n",
              "      <td>68</td>\n",
              "      <td>25.0</td>\n",
              "      <td>3</td>\n",
              "      <td>511.0</td>\n",
              "      <td>575.0</td>\n",
              "      <td>575.0</td>\n",
              "      <td>2.70</td>\n",
              "      <td>98.0</td>\n",
              "      <td>...</td>\n",
              "      <td>35.84</td>\n",
              "      <td>2</td>\n",
              "      <td>1</td>\n",
              "      <td>1</td>\n",
              "      <td>2</td>\n",
              "      <td>0</td>\n",
              "      <td>1</td>\n",
              "      <td>0</td>\n",
              "      <td>0</td>\n",
              "      <td>0</td>\n",
              "    </tr>\n",
              "    <tr>\n",
              "      <th>97</th>\n",
              "      <td>98</td>\n",
              "      <td>43</td>\n",
              "      <td>75</td>\n",
              "      <td>40.0</td>\n",
              "      <td>3</td>\n",
              "      <td>576.0</td>\n",
              "      <td>577.0</td>\n",
              "      <td>577.0</td>\n",
              "      <td>2.90</td>\n",
              "      <td>93.0</td>\n",
              "      <td>...</td>\n",
              "      <td>15.05</td>\n",
              "      <td>3</td>\n",
              "      <td>1</td>\n",
              "      <td>1</td>\n",
              "      <td>2</td>\n",
              "      <td>0</td>\n",
              "      <td>1</td>\n",
              "      <td>0</td>\n",
              "      <td>0</td>\n",
              "      <td>1</td>\n",
              "    </tr>\n",
              "    <tr>\n",
              "      <th>98</th>\n",
              "      <td>99</td>\n",
              "      <td>74</td>\n",
              "      <td>68</td>\n",
              "      <td>30.0</td>\n",
              "      <td>1</td>\n",
              "      <td>468.0</td>\n",
              "      <td>582.0</td>\n",
              "      <td>582.0</td>\n",
              "      <td>1.65</td>\n",
              "      <td>67.0</td>\n",
              "      <td>...</td>\n",
              "      <td>19.70</td>\n",
              "      <td>2</td>\n",
              "      <td>2</td>\n",
              "      <td>0</td>\n",
              "      <td>2</td>\n",
              "      <td>0</td>\n",
              "      <td>0</td>\n",
              "      <td>1</td>\n",
              "      <td>0</td>\n",
              "      <td>0</td>\n",
              "    </tr>\n",
              "    <tr>\n",
              "      <th>99</th>\n",
              "      <td>100</td>\n",
              "      <td>108</td>\n",
              "      <td>54</td>\n",
              "      <td>30.0</td>\n",
              "      <td>0</td>\n",
              "      <td>688.0</td>\n",
              "      <td>699.0</td>\n",
              "      <td>699.0</td>\n",
              "      <td>1.72</td>\n",
              "      <td>44.0</td>\n",
              "      <td>...</td>\n",
              "      <td>20.55</td>\n",
              "      <td>1</td>\n",
              "      <td>3</td>\n",
              "      <td>1</td>\n",
              "      <td>2</td>\n",
              "      <td>0</td>\n",
              "      <td>0</td>\n",
              "      <td>0</td>\n",
              "      <td>0</td>\n",
              "      <td>0</td>\n",
              "    </tr>\n",
              "  </tbody>\n",
              "</table>\n",
              "<p>99 rows × 24 columns</p>\n",
              "</div>\n",
              "    <div class=\"colab-df-buttons\">\n",
              "\n",
              "  <div class=\"colab-df-container\">\n",
              "    <button class=\"colab-df-convert\" onclick=\"convertToInteractive('df-132eb0b0-b61e-478b-9846-b9a8e196d608')\"\n",
              "            title=\"Convert this dataframe to an interactive table.\"\n",
              "            style=\"display:none;\">\n",
              "\n",
              "  <svg xmlns=\"http://www.w3.org/2000/svg\" height=\"24px\" viewBox=\"0 -960 960 960\">\n",
              "    <path d=\"M120-120v-720h720v720H120Zm60-500h600v-160H180v160Zm220 220h160v-160H400v160Zm0 220h160v-160H400v160ZM180-400h160v-160H180v160Zm440 0h160v-160H620v160ZM180-180h160v-160H180v160Zm440 0h160v-160H620v160Z\"/>\n",
              "  </svg>\n",
              "    </button>\n",
              "\n",
              "  <style>\n",
              "    .colab-df-container {\n",
              "      display:flex;\n",
              "      gap: 12px;\n",
              "    }\n",
              "\n",
              "    .colab-df-convert {\n",
              "      background-color: #E8F0FE;\n",
              "      border: none;\n",
              "      border-radius: 50%;\n",
              "      cursor: pointer;\n",
              "      display: none;\n",
              "      fill: #1967D2;\n",
              "      height: 32px;\n",
              "      padding: 0 0 0 0;\n",
              "      width: 32px;\n",
              "    }\n",
              "\n",
              "    .colab-df-convert:hover {\n",
              "      background-color: #E2EBFA;\n",
              "      box-shadow: 0px 1px 2px rgba(60, 64, 67, 0.3), 0px 1px 3px 1px rgba(60, 64, 67, 0.15);\n",
              "      fill: #174EA6;\n",
              "    }\n",
              "\n",
              "    .colab-df-buttons div {\n",
              "      margin-bottom: 4px;\n",
              "    }\n",
              "\n",
              "    [theme=dark] .colab-df-convert {\n",
              "      background-color: #3B4455;\n",
              "      fill: #D2E3FC;\n",
              "    }\n",
              "\n",
              "    [theme=dark] .colab-df-convert:hover {\n",
              "      background-color: #434B5C;\n",
              "      box-shadow: 0px 1px 3px 1px rgba(0, 0, 0, 0.15);\n",
              "      filter: drop-shadow(0px 1px 2px rgba(0, 0, 0, 0.3));\n",
              "      fill: #FFFFFF;\n",
              "    }\n",
              "  </style>\n",
              "\n",
              "    <script>\n",
              "      const buttonEl =\n",
              "        document.querySelector('#df-132eb0b0-b61e-478b-9846-b9a8e196d608 button.colab-df-convert');\n",
              "      buttonEl.style.display =\n",
              "        google.colab.kernel.accessAllowed ? 'block' : 'none';\n",
              "\n",
              "      async function convertToInteractive(key) {\n",
              "        const element = document.querySelector('#df-132eb0b0-b61e-478b-9846-b9a8e196d608');\n",
              "        const dataTable =\n",
              "          await google.colab.kernel.invokeFunction('convertToInteractive',\n",
              "                                                    [key], {});\n",
              "        if (!dataTable) return;\n",
              "\n",
              "        const docLinkHtml = 'Like what you see? Visit the ' +\n",
              "          '<a target=\"_blank\" href=https://colab.research.google.com/notebooks/data_table.ipynb>data table notebook</a>'\n",
              "          + ' to learn more about interactive tables.';\n",
              "        element.innerHTML = '';\n",
              "        dataTable['output_type'] = 'display_data';\n",
              "        await google.colab.output.renderOutput(dataTable, element);\n",
              "        const docLink = document.createElement('div');\n",
              "        docLink.innerHTML = docLinkHtml;\n",
              "        element.appendChild(docLink);\n",
              "      }\n",
              "    </script>\n",
              "  </div>\n",
              "\n",
              "\n",
              "<div id=\"df-d39ba746-959b-42d3-a808-0826cab4363b\">\n",
              "  <button class=\"colab-df-quickchart\" onclick=\"quickchart('df-d39ba746-959b-42d3-a808-0826cab4363b')\"\n",
              "            title=\"Suggest charts\"\n",
              "            style=\"display:none;\">\n",
              "\n",
              "<svg xmlns=\"http://www.w3.org/2000/svg\" height=\"24px\"viewBox=\"0 0 24 24\"\n",
              "     width=\"24px\">\n",
              "    <g>\n",
              "        <path d=\"M19 3H5c-1.1 0-2 .9-2 2v14c0 1.1.9 2 2 2h14c1.1 0 2-.9 2-2V5c0-1.1-.9-2-2-2zM9 17H7v-7h2v7zm4 0h-2V7h2v10zm4 0h-2v-4h2v4z\"/>\n",
              "    </g>\n",
              "</svg>\n",
              "  </button>\n",
              "\n",
              "<style>\n",
              "  .colab-df-quickchart {\n",
              "      --bg-color: #E8F0FE;\n",
              "      --fill-color: #1967D2;\n",
              "      --hover-bg-color: #E2EBFA;\n",
              "      --hover-fill-color: #174EA6;\n",
              "      --disabled-fill-color: #AAA;\n",
              "      --disabled-bg-color: #DDD;\n",
              "  }\n",
              "\n",
              "  [theme=dark] .colab-df-quickchart {\n",
              "      --bg-color: #3B4455;\n",
              "      --fill-color: #D2E3FC;\n",
              "      --hover-bg-color: #434B5C;\n",
              "      --hover-fill-color: #FFFFFF;\n",
              "      --disabled-bg-color: #3B4455;\n",
              "      --disabled-fill-color: #666;\n",
              "  }\n",
              "\n",
              "  .colab-df-quickchart {\n",
              "    background-color: var(--bg-color);\n",
              "    border: none;\n",
              "    border-radius: 50%;\n",
              "    cursor: pointer;\n",
              "    display: none;\n",
              "    fill: var(--fill-color);\n",
              "    height: 32px;\n",
              "    padding: 0;\n",
              "    width: 32px;\n",
              "  }\n",
              "\n",
              "  .colab-df-quickchart:hover {\n",
              "    background-color: var(--hover-bg-color);\n",
              "    box-shadow: 0 1px 2px rgba(60, 64, 67, 0.3), 0 1px 3px 1px rgba(60, 64, 67, 0.15);\n",
              "    fill: var(--button-hover-fill-color);\n",
              "  }\n",
              "\n",
              "  .colab-df-quickchart-complete:disabled,\n",
              "  .colab-df-quickchart-complete:disabled:hover {\n",
              "    background-color: var(--disabled-bg-color);\n",
              "    fill: var(--disabled-fill-color);\n",
              "    box-shadow: none;\n",
              "  }\n",
              "\n",
              "  .colab-df-spinner {\n",
              "    border: 2px solid var(--fill-color);\n",
              "    border-color: transparent;\n",
              "    border-bottom-color: var(--fill-color);\n",
              "    animation:\n",
              "      spin 1s steps(1) infinite;\n",
              "  }\n",
              "\n",
              "  @keyframes spin {\n",
              "    0% {\n",
              "      border-color: transparent;\n",
              "      border-bottom-color: var(--fill-color);\n",
              "      border-left-color: var(--fill-color);\n",
              "    }\n",
              "    20% {\n",
              "      border-color: transparent;\n",
              "      border-left-color: var(--fill-color);\n",
              "      border-top-color: var(--fill-color);\n",
              "    }\n",
              "    30% {\n",
              "      border-color: transparent;\n",
              "      border-left-color: var(--fill-color);\n",
              "      border-top-color: var(--fill-color);\n",
              "      border-right-color: var(--fill-color);\n",
              "    }\n",
              "    40% {\n",
              "      border-color: transparent;\n",
              "      border-right-color: var(--fill-color);\n",
              "      border-top-color: var(--fill-color);\n",
              "    }\n",
              "    60% {\n",
              "      border-color: transparent;\n",
              "      border-right-color: var(--fill-color);\n",
              "    }\n",
              "    80% {\n",
              "      border-color: transparent;\n",
              "      border-right-color: var(--fill-color);\n",
              "      border-bottom-color: var(--fill-color);\n",
              "    }\n",
              "    90% {\n",
              "      border-color: transparent;\n",
              "      border-bottom-color: var(--fill-color);\n",
              "    }\n",
              "  }\n",
              "</style>\n",
              "\n",
              "  <script>\n",
              "    async function quickchart(key) {\n",
              "      const quickchartButtonEl =\n",
              "        document.querySelector('#' + key + ' button');\n",
              "      quickchartButtonEl.disabled = true;  // To prevent multiple clicks.\n",
              "      quickchartButtonEl.classList.add('colab-df-spinner');\n",
              "      try {\n",
              "        const charts = await google.colab.kernel.invokeFunction(\n",
              "            'suggestCharts', [key], {});\n",
              "      } catch (error) {\n",
              "        console.error('Error during call to suggestCharts:', error);\n",
              "      }\n",
              "      quickchartButtonEl.classList.remove('colab-df-spinner');\n",
              "      quickchartButtonEl.classList.add('colab-df-quickchart-complete');\n",
              "    }\n",
              "    (() => {\n",
              "      let quickchartButtonEl =\n",
              "        document.querySelector('#df-d39ba746-959b-42d3-a808-0826cab4363b button');\n",
              "      quickchartButtonEl.style.display =\n",
              "        google.colab.kernel.accessAllowed ? 'block' : 'none';\n",
              "    })();\n",
              "  </script>\n",
              "</div>\n",
              "\n",
              "  <div id=\"id_fa010bff-269e-43aa-bb7c-60acdcb5fdb6\">\n",
              "    <style>\n",
              "      .colab-df-generate {\n",
              "        background-color: #E8F0FE;\n",
              "        border: none;\n",
              "        border-radius: 50%;\n",
              "        cursor: pointer;\n",
              "        display: none;\n",
              "        fill: #1967D2;\n",
              "        height: 32px;\n",
              "        padding: 0 0 0 0;\n",
              "        width: 32px;\n",
              "      }\n",
              "\n",
              "      .colab-df-generate:hover {\n",
              "        background-color: #E2EBFA;\n",
              "        box-shadow: 0px 1px 2px rgba(60, 64, 67, 0.3), 0px 1px 3px 1px rgba(60, 64, 67, 0.15);\n",
              "        fill: #174EA6;\n",
              "      }\n",
              "\n",
              "      [theme=dark] .colab-df-generate {\n",
              "        background-color: #3B4455;\n",
              "        fill: #D2E3FC;\n",
              "      }\n",
              "\n",
              "      [theme=dark] .colab-df-generate:hover {\n",
              "        background-color: #434B5C;\n",
              "        box-shadow: 0px 1px 3px 1px rgba(0, 0, 0, 0.15);\n",
              "        filter: drop-shadow(0px 1px 2px rgba(0, 0, 0, 0.3));\n",
              "        fill: #FFFFFF;\n",
              "      }\n",
              "    </style>\n",
              "    <button class=\"colab-df-generate\" onclick=\"generateWithVariable('patient_data')\"\n",
              "            title=\"Generate code using this dataframe.\"\n",
              "            style=\"display:none;\">\n",
              "\n",
              "  <svg xmlns=\"http://www.w3.org/2000/svg\" height=\"24px\"viewBox=\"0 0 24 24\"\n",
              "       width=\"24px\">\n",
              "    <path d=\"M7,19H8.4L18.45,9,17,7.55,7,17.6ZM5,21V16.75L18.45,3.32a2,2,0,0,1,2.83,0l1.4,1.43a1.91,1.91,0,0,1,.58,1.4,1.91,1.91,0,0,1-.58,1.4L9.25,21ZM18.45,9,17,7.55Zm-12,3A5.31,5.31,0,0,0,4.9,8.1,5.31,5.31,0,0,0,1,6.5,5.31,5.31,0,0,0,4.9,4.9,5.31,5.31,0,0,0,6.5,1,5.31,5.31,0,0,0,8.1,4.9,5.31,5.31,0,0,0,12,6.5,5.46,5.46,0,0,0,6.5,12Z\"/>\n",
              "  </svg>\n",
              "    </button>\n",
              "    <script>\n",
              "      (() => {\n",
              "      const buttonEl =\n",
              "        document.querySelector('#id_fa010bff-269e-43aa-bb7c-60acdcb5fdb6 button.colab-df-generate');\n",
              "      buttonEl.style.display =\n",
              "        google.colab.kernel.accessAllowed ? 'block' : 'none';\n",
              "\n",
              "      buttonEl.onclick = () => {\n",
              "        google.colab.notebook.generateWithVariable('patient_data');\n",
              "      }\n",
              "      })();\n",
              "    </script>\n",
              "  </div>\n",
              "\n",
              "    </div>\n",
              "  </div>\n"
            ]
          },
          "metadata": {},
          "execution_count": 60
        }
      ]
    },
    {
      "cell_type": "markdown",
      "source": [
        "correlation"
      ],
      "metadata": {
        "id": "bAzNgjx4_zRk"
      }
    },
    {
      "cell_type": "code",
      "source": [
        "correlation = patient_data.corr()"
      ],
      "metadata": {
        "id": "6cl7RINn-Den"
      },
      "execution_count": null,
      "outputs": []
    },
    {
      "cell_type": "code",
      "source": [
        "plt.figure(figsize=(10,10))\n",
        "sns.heatmap(correlation, cbar=True, square = True, fmt = '.1f', annot = True, annot_kws = {'size':8}, cmap = 'Blues')"
      ],
      "metadata": {
        "colab": {
          "base_uri": "https://localhost:8080/",
          "height": 885
        },
        "id": "m6U1wiri-NVt",
        "outputId": "eeb1f32b-32af-4cc2-8872-3e0a2a8f84bd"
      },
      "execution_count": null,
      "outputs": [
        {
          "output_type": "execute_result",
          "data": {
            "text/plain": [
              "<Axes: >"
            ]
          },
          "metadata": {},
          "execution_count": 62
        },
        {
          "output_type": "display_data",
          "data": {
            "text/plain": [
              "<Figure size 1000x1000 with 2 Axes>"
            ],
            "image/png": "[encoded data removed]"
          },
          "metadata": {}
        }
      ]
    },
    {
      "cell_type": "markdown",
      "source": [
        "Splitting the data"
      ],
      "metadata": {
        "id": "iZY-Zto-ADtu"
      }
    },
    {
      "cell_type": "code",
      "source": [
        "X = patient_data.drop(columns = ['number','COPDSEVERITY','ID'],axis=1)\n",
        "Y = patient_data['COPDSEVERITY']"
      ],
      "metadata": {
        "id": "QFPTBJcM-gSe"
      },
      "execution_count": null,
      "outputs": []
    },
    {
      "cell_type": "code",
      "source": [
        "print(X)"
      ],
      "metadata": {
        "colab": {
          "base_uri": "https://localhost:8080/"
        },
        "id": "yvZSMrTn-8G7",
        "outputId": "fb9b0638-d0f4-43b6-ef88-2aec7e47e923"
      },
      "execution_count": null,
      "outputs": [
        {
          "output_type": "stream",
          "name": "stdout",
          "text": [
            "    AGE  PackHistory   MWT1   MWT2  MWT1Best  FEV1  FEV1PRED   FVC  FVCPRED  \\\n",
            "0    77         60.0  120.0  120.0     120.0  1.21      36.0  2.40       98   \n",
            "1    79         50.0  165.0  176.0     176.0  1.09      56.0  1.64       65   \n",
            "2    80         11.0  201.0  180.0     201.0  1.52      68.0  2.30       86   \n",
            "3    56         60.0  210.0  210.0     210.0  0.47      14.0  1.14       27   \n",
            "4    65         68.0  204.0  210.0     210.0  1.07      42.0  2.91       98   \n",
            "..  ...          ...    ...    ...       ...   ...       ...   ...      ...   \n",
            "95   72         30.0  558.0  563.0     558.0  1.61      61.0  3.14       91   \n",
            "96   68         25.0  511.0  575.0     575.0  2.70      98.0  3.87      108   \n",
            "97   75         40.0  576.0  577.0     577.0  2.90      93.0  4.72      114   \n",
            "98   68         30.0  468.0  582.0     582.0  1.65      67.0  2.80       88   \n",
            "99   54         30.0  688.0  699.0     699.0  1.72      44.0  4.07       82   \n",
            "\n",
            "    CAT  ...   SGRQ  AGEquartiles  copd  gender  smoking  Diabetes  muscular  \\\n",
            "0    25  ...  69.55             4     3       1        2         1         0   \n",
            "1    12  ...  44.24             4     2       0        2         1         0   \n",
            "2    22  ...  44.09             4     2       0        2         1         0   \n",
            "3    28  ...  62.04             1     4       1        2         0         0   \n",
            "4    32  ...  75.56             1     3       1        2         0         1   \n",
            "..  ...  ...    ...           ...   ...     ...      ...       ...       ...   \n",
            "95   18  ...  34.64             3     2       1        2         0         0   \n",
            "96   20  ...  35.84             2     1       1        2         0         1   \n",
            "97    9  ...  15.05             3     1       1        2         0         1   \n",
            "98    4  ...  19.70             2     2       0        2         0         0   \n",
            "99   10  ...  20.55             1     3       1        2         0         0   \n",
            "\n",
            "    hypertension  AtrialFib  IHD  \n",
            "0              0          1    0  \n",
            "1              0          1    1  \n",
            "2              0          1    0  \n",
            "3              1          1    0  \n",
            "4              1          0    0  \n",
            "..           ...        ...  ...  \n",
            "95             0          0    1  \n",
            "96             0          0    0  \n",
            "97             0          0    1  \n",
            "98             1          0    0  \n",
            "99             0          0    0  \n",
            "\n",
            "[99 rows x 21 columns]\n"
          ]
        }
      ]
    },
    {
      "cell_type": "code",
      "source": [
        "print(Y)"
      ],
      "metadata": {
        "colab": {
          "base_uri": "https://localhost:8080/"
        },
        "id": "ne5ZJ89__Fun",
        "outputId": "90241331-2553-45b4-ae10-b957338aeab6"
      },
      "execution_count": null,
      "outputs": [
        {
          "output_type": "stream",
          "name": "stdout",
          "text": [
            "0     0\n",
            "1     1\n",
            "2     1\n",
            "3     2\n",
            "4     0\n",
            "     ..\n",
            "95    1\n",
            "96    3\n",
            "97    3\n",
            "98    1\n",
            "99    0\n",
            "Name: COPDSEVERITY, Length: 99, dtype: int64\n"
          ]
        }
      ]
    },
    {
      "cell_type": "code",
      "source": [
        "X_train, X_test, Y_train,Y_test = train_test_split(X,Y,test_size=0.2,stratify = Y, random_state=2)"
      ],
      "metadata": {
        "id": "QIYrnJVh_Jkg"
      },
      "execution_count": null,
      "outputs": []
    },
    {
      "cell_type": "code",
      "source": [
        "print(X.shape,X_train.shape,X_test.shape)"
      ],
      "metadata": {
        "colab": {
          "base_uri": "https://localhost:8080/"
        },
        "id": "htB5mvSBAcVV",
        "outputId": "82406bd7-a2f9-46dc-fe09-00e0851e287f"
      },
      "execution_count": null,
      "outputs": [
        {
          "output_type": "stream",
          "name": "stdout",
          "text": [
            "(99, 21) (79, 21) (20, 21)\n"
          ]
        }
      ]
    },
    {
      "cell_type": "markdown",
      "source": [
        "LogisticRegression"
      ],
      "metadata": {
        "id": "j4KZbwcFAzRA"
      }
    },
    {
      "cell_type": "markdown",
      "source": [
        "Model training"
      ],
      "metadata": {
        "id": "xGN9c75GBDpE"
      }
    },
    {
      "cell_type": "code",
      "source": [
        "model = LogisticRegression()"
      ],
      "metadata": {
        "id": "4HHP-mWkAraT"
      },
      "execution_count": null,
      "outputs": []
    },
    {
      "cell_type": "code",
      "source": [
        "model.fit(X_train,Y_train)"
      ],
      "metadata": {
        "colab": {
          "base_uri": "https://localhost:8080/",
          "height": 220
        },
        "id": "RQsyllHuA7jX",
        "outputId": "5556475b-27c0-42aa-af42-e5d36f508584"
      },
      "execution_count": null,
      "outputs": [
        {
          "output_type": "stream",
          "name": "stderr",
          "text": [
            "/usr/local/lib/python3.10/dist-packages/sklearn/linear_model/_logistic.py:458: ConvergenceWarning: lbfgs failed to converge (status=1):\n",
            "STOP: TOTAL NO. of ITERATIONS REACHED LIMIT.\n",
            "\n",
            "Increase the number of iterations (max_iter) or scale the data as shown in:\n",
            "    https://scikit-learn.org/stable/modules/preprocessing.html\n",
            "Please also refer to the documentation for alternative solver options:\n",
            "    https://scikit-learn.org/stable/modules/linear_model.html#logistic-regression\n",
            "  n_iter_i = _check_optimize_result(\n"
          ]
        },
        {
          "output_type": "execute_result",
          "data": {
            "text/plain": [
              "LogisticRegression()"
            ],
            "text/html": [
              "<style>#sk-container-id-5 {color: black;background-color: white;}#sk-container-id-5 pre{padding: 0;}#sk-container-id-5 div.sk-toggleable {background-color: white;}#sk-container-id-5 label.sk-toggleable__label {cursor: pointer;display: block;width: 100%;margin-bottom: 0;padding: 0.3em;box-sizing: border-box;text-align: center;}#sk-container-id-5 label.sk-toggleable__label-arrow:before {content: \"▸\";float: left;margin-right: 0.25em;color: #696969;}#sk-container-id-5 label.sk-toggleable__label-arrow:hover:before {color: black;}#sk-container-id-5 div.sk-estimator:hover label.sk-toggleable__label-arrow:before {color: black;}#sk-container-id-5 div.sk-toggleable__content {max-height: 0;max-width: 0;overflow: hidden;text-align: left;background-color: #f0f8ff;}#sk-container-id-5 div.sk-toggleable__content pre {margin: 0.2em;color: black;border-radius: 0.25em;background-color: #f0f8ff;}#sk-container-id-5 input.sk-toggleable__control:checked~div.sk-toggleable__content {max-height: 200px;max-width: 100%;overflow: auto;}#sk-container-id-5 input.sk-toggleable__control:checked~label.sk-toggleable__label-arrow:before {content: \"▾\";}#sk-container-id-5 div.sk-estimator input.sk-toggleable__control:checked~label.sk-toggleable__label {background-color: #d4ebff;}#sk-container-id-5 div.sk-label input.sk-toggleable__control:checked~label.sk-toggleable__label {background-color: #d4ebff;}#sk-container-id-5 input.sk-hidden--visually {border: 0;clip: rect(1px 1px 1px 1px);clip: rect(1px, 1px, 1px, 1px);height: 1px;margin: -1px;overflow: hidden;padding: 0;position: absolute;width: 1px;}#sk-container-id-5 div.sk-estimator {font-family: monospace;background-color: #f0f8ff;border: 1px dotted black;border-radius: 0.25em;box-sizing: border-box;margin-bottom: 0.5em;}#sk-container-id-5 div.sk-estimator:hover {background-color: #d4ebff;}#sk-container-id-5 div.sk-parallel-item::after {content: \"\";width: 100%;border-bottom: 1px solid gray;flex-grow: 1;}#sk-container-id-5 div.sk-label:hover label.sk-toggleable__label {background-color: #d4ebff;}#sk-container-id-5 div.sk-serial::before {content: \"\";position: absolute;border-left: 1px solid gray;box-sizing: border-box;top: 0;bottom: 0;left: 50%;z-index: 0;}#sk-container-id-5 div.sk-serial {display: flex;flex-direction: column;align-items: center;background-color: white;padding-right: 0.2em;padding-left: 0.2em;position: relative;}#sk-container-id-5 div.sk-item {position: relative;z-index: 1;}#sk-container-id-5 div.sk-parallel {display: flex;align-items: stretch;justify-content: center;background-color: white;position: relative;}#sk-container-id-5 div.sk-item::before, #sk-container-id-5 div.sk-parallel-item::before {content: \"\";position: absolute;border-left: 1px solid gray;box-sizing: border-box;top: 0;bottom: 0;left: 50%;z-index: -1;}#sk-container-id-5 div.sk-parallel-item {display: flex;flex-direction: column;z-index: 1;position: relative;background-color: white;}#sk-container-id-5 div.sk-parallel-item:first-child::after {align-self: flex-end;width: 50%;}#sk-container-id-5 div.sk-parallel-item:last-child::after {align-self: flex-start;width: 50%;}#sk-container-id-5 div.sk-parallel-item:only-child::after {width: 0;}#sk-container-id-5 div.sk-dashed-wrapped {border: 1px dashed gray;margin: 0 0.4em 0.5em 0.4em;box-sizing: border-box;padding-bottom: 0.4em;background-color: white;}#sk-container-id-5 div.sk-label label {font-family: monospace;font-weight: bold;display: inline-block;line-height: 1.2em;}#sk-container-id-5 div.sk-label-container {text-align: center;}#sk-container-id-5 div.sk-container {/* jupyter's `normalize.less` sets `[hidden] { display: none; }` but bootstrap.min.css set `[hidden] { display: none !important; }` so we also need the `!important` here to be able to override the default hidden behavior on the sphinx rendered scikit-learn.org. See: https://github.com/scikit-learn/scikit-learn/issues/21755 */display: inline-block !important;position: relative;}#sk-container-id-5 div.sk-text-repr-fallback {display: none;}</style><div id=\"sk-container-id-5\" class=\"sk-top-container\"><div class=\"sk-text-repr-fallback\"><pre>LogisticRegression()</pre><b>In a Jupyter environment, please rerun this cell to show the HTML representation or trust the notebook. <br />On GitHub, the HTML representation is unable to render, please try loading this page with nbviewer.org.</b></div><div class=\"sk-container\" hidden><div class=\"sk-item\"><div class=\"sk-estimator sk-toggleable\"><input class=\"sk-toggleable__control sk-hidden--visually\" id=\"sk-estimator-id-5\" type=\"checkbox\" checked><label for=\"sk-estimator-id-5\" class=\"sk-toggleable__label sk-toggleable__label-arrow\">LogisticRegression</label><div class=\"sk-toggleable__content\"><pre>LogisticRegression()</pre></div></div></div></div></div>"
            ]
          },
          "metadata": {},
          "execution_count": 69
        }
      ]
    },
    {
      "cell_type": "markdown",
      "source": [
        "model evaluation"
      ],
      "metadata": {
        "id": "t6HuWCnZBJKc"
      }
    },
    {
      "cell_type": "code",
      "source": [
        "X_train_prediction = model.predict(X_train)\n",
        "X_training_data_accuracy = accuracy_score(Y_train,X_train_prediction)\n",
        "print('training accuacy',X_training_data_accuracy)"
      ],
      "metadata": {
        "colab": {
          "base_uri": "https://localhost:8080/"
        },
        "id": "YGuNoBJ-BH0d",
        "outputId": "414d8d2e-d1c6-4156-e451-a240bb8acdb1"
      },
      "execution_count": null,
      "outputs": [
        {
          "output_type": "stream",
          "name": "stdout",
          "text": [
            "training accuacy 0.8607594936708861\n"
          ]
        }
      ]
    },
    {
      "cell_type": "code",
      "source": [
        "X_test_prediction = model.predict(X_test)\n",
        "X_test_accuracy = accuracy_score(Y_test,X_test_prediction)\n",
        "print('test accuracy',X_test_accuracy)"
      ],
      "metadata": {
        "colab": {
          "base_uri": "https://localhost:8080/"
        },
        "id": "NvQLEnj0B1nV",
        "outputId": "e874bae1-a5a6-4466-a784-78e84bb6d679"
      },
      "execution_count": null,
      "outputs": [
        {
          "output_type": "stream",
          "name": "stdout",
          "text": [
            "test accuracy 0.55\n"
          ]
        }
      ]
    },
    {
      "cell_type": "code",
      "source": [
        "X_test.to_csv('copd_test.csv',index=False)\n",
        "#from google.colab import files\n",
        "#files.download('copd_test.csv')"
      ],
      "metadata": {
        "id": "vw638cGjCKVY"
      },
      "execution_count": null,
      "outputs": []
    },
    {
      "cell_type": "code",
      "source": [
        "input_data=(67,20.0,435.0,459.0,459.0,1.11,37.0,3.22,81,24,15.0,61.97,2,3,1,2,0,0,0,0,0)\n",
        "input_data_as_numpy_array = np.array(input_data)\n",
        "input_data_reshaped = input_data_as_numpy_array.reshape(1,-1)\n",
        "prediction = model.predict(input_data_reshaped)\n",
        "print(prediction[0])\n",
        "if(prediction[0]==0):\n",
        "  print('Severe COPD')\n",
        "elif(prediction[0]==1):\n",
        "  print('Moderate COPD')\n",
        "elif(prediction[0]==2):\n",
        "  print('Very severe COPD')\n",
        "else:\n",
        "  print('Mild COPD')"
      ],
      "metadata": {
        "colab": {
          "base_uri": "https://localhost:8080/"
        },
        "id": "6PmhIW4nCjFS",
        "outputId": "5091bb66-5330-4f11-c5cb-a602f04e5130"
      },
      "execution_count": null,
      "outputs": [
        {
          "output_type": "stream",
          "name": "stdout",
          "text": [
            "0\n",
            "Severe COPD\n"
          ]
        },
        {
          "output_type": "stream",
          "name": "stderr",
          "text": [
            "/usr/local/lib/python3.10/dist-packages/sklearn/base.py:439: UserWarning: X does not have valid feature names, but LogisticRegression was fitted with feature names\n",
            "  warnings.warn(\n"
          ]
        }
      ]
    },
    {
      "cell_type": "markdown",
      "source": [
        "DecisionTreeClassifier"
      ],
      "metadata": {
        "id": "34Qa8r6YDiDx"
      }
    },
    {
      "cell_type": "markdown",
      "source": [
        "training"
      ],
      "metadata": {
        "id": "GhUZ9Gh7DuDu"
      }
    },
    {
      "cell_type": "code",
      "source": [
        "model1 = DecisionTreeClassifier()"
      ],
      "metadata": {
        "id": "9l2MAAf-Dfl4"
      },
      "execution_count": null,
      "outputs": []
    },
    {
      "cell_type": "code",
      "source": [
        "model1.fit(X_train,Y_train)"
      ],
      "metadata": {
        "colab": {
          "base_uri": "https://localhost:8080/",
          "height": 74
        },
        "id": "OjN6GE8BDq0n",
        "outputId": "cd3b7661-9960-47a5-f8cc-0ea11064b392"
      },
      "execution_count": null,
      "outputs": [
        {
          "output_type": "execute_result",
          "data": {
            "text/plain": [
              "DecisionTreeClassifier()"
            ],
            "text/html": [
              "<style>#sk-container-id-6 {color: black;background-color: white;}#sk-container-id-6 pre{padding: 0;}#sk-container-id-6 div.sk-toggleable {background-color: white;}#sk-container-id-6 label.sk-toggleable__label {cursor: pointer;display: block;width: 100%;margin-bottom: 0;padding: 0.3em;box-sizing: border-box;text-align: center;}#sk-container-id-6 label.sk-toggleable__label-arrow:before {content: \"▸\";float: left;margin-right: 0.25em;color: #696969;}#sk-container-id-6 label.sk-toggleable__label-arrow:hover:before {color: black;}#sk-container-id-6 div.sk-estimator:hover label.sk-toggleable__label-arrow:before {color: black;}#sk-container-id-6 div.sk-toggleable__content {max-height: 0;max-width: 0;overflow: hidden;text-align: left;background-color: #f0f8ff;}#sk-container-id-6 div.sk-toggleable__content pre {margin: 0.2em;color: black;border-radius: 0.25em;background-color: #f0f8ff;}#sk-container-id-6 input.sk-toggleable__control:checked~div.sk-toggleable__content {max-height: 200px;max-width: 100%;overflow: auto;}#sk-container-id-6 input.sk-toggleable__control:checked~label.sk-toggleable__label-arrow:before {content: \"▾\";}#sk-container-id-6 div.sk-estimator input.sk-toggleable__control:checked~label.sk-toggleable__label {background-color: #d4ebff;}#sk-container-id-6 div.sk-label input.sk-toggleable__control:checked~label.sk-toggleable__label {background-color: #d4ebff;}#sk-container-id-6 input.sk-hidden--visually {border: 0;clip: rect(1px 1px 1px 1px);clip: rect(1px, 1px, 1px, 1px);height: 1px;margin: -1px;overflow: hidden;padding: 0;position: absolute;width: 1px;}#sk-container-id-6 div.sk-estimator {font-family: monospace;background-color: #f0f8ff;border: 1px dotted black;border-radius: 0.25em;box-sizing: border-box;margin-bottom: 0.5em;}#sk-container-id-6 div.sk-estimator:hover {background-color: #d4ebff;}#sk-container-id-6 div.sk-parallel-item::after {content: \"\";width: 100%;border-bottom: 1px solid gray;flex-grow: 1;}#sk-container-id-6 div.sk-label:hover label.sk-toggleable__label {background-color: #d4ebff;}#sk-container-id-6 div.sk-serial::before {content: \"\";position: absolute;border-left: 1px solid gray;box-sizing: border-box;top: 0;bottom: 0;left: 50%;z-index: 0;}#sk-container-id-6 div.sk-serial {display: flex;flex-direction: column;align-items: center;background-color: white;padding-right: 0.2em;padding-left: 0.2em;position: relative;}#sk-container-id-6 div.sk-item {position: relative;z-index: 1;}#sk-container-id-6 div.sk-parallel {display: flex;align-items: stretch;justify-content: center;background-color: white;position: relative;}#sk-container-id-6 div.sk-item::before, #sk-container-id-6 div.sk-parallel-item::before {content: \"\";position: absolute;border-left: 1px solid gray;box-sizing: border-box;top: 0;bottom: 0;left: 50%;z-index: -1;}#sk-container-id-6 div.sk-parallel-item {display: flex;flex-direction: column;z-index: 1;position: relative;background-color: white;}#sk-container-id-6 div.sk-parallel-item:first-child::after {align-self: flex-end;width: 50%;}#sk-container-id-6 div.sk-parallel-item:last-child::after {align-self: flex-start;width: 50%;}#sk-container-id-6 div.sk-parallel-item:only-child::after {width: 0;}#sk-container-id-6 div.sk-dashed-wrapped {border: 1px dashed gray;margin: 0 0.4em 0.5em 0.4em;box-sizing: border-box;padding-bottom: 0.4em;background-color: white;}#sk-container-id-6 div.sk-label label {font-family: monospace;font-weight: bold;display: inline-block;line-height: 1.2em;}#sk-container-id-6 div.sk-label-container {text-align: center;}#sk-container-id-6 div.sk-container {/* jupyter's `normalize.less` sets `[hidden] { display: none; }` but bootstrap.min.css set `[hidden] { display: none !important; }` so we also need the `!important` here to be able to override the default hidden behavior on the sphinx rendered scikit-learn.org. See: https://github.com/scikit-learn/scikit-learn/issues/21755 */display: inline-block !important;position: relative;}#sk-container-id-6 div.sk-text-repr-fallback {display: none;}</style><div id=\"sk-container-id-6\" class=\"sk-top-container\"><div class=\"sk-text-repr-fallback\"><pre>DecisionTreeClassifier()</pre><b>In a Jupyter environment, please rerun this cell to show the HTML representation or trust the notebook. <br />On GitHub, the HTML representation is unable to render, please try loading this page with nbviewer.org.</b></div><div class=\"sk-container\" hidden><div class=\"sk-item\"><div class=\"sk-estimator sk-toggleable\"><input class=\"sk-toggleable__control sk-hidden--visually\" id=\"sk-estimator-id-6\" type=\"checkbox\" checked><label for=\"sk-estimator-id-6\" class=\"sk-toggleable__label sk-toggleable__label-arrow\">DecisionTreeClassifier</label><div class=\"sk-toggleable__content\"><pre>DecisionTreeClassifier()</pre></div></div></div></div></div>"
            ]
          },
          "metadata": {},
          "execution_count": 75
        }
      ]
    },
    {
      "cell_type": "markdown",
      "source": [
        "evaluation"
      ],
      "metadata": {
        "id": "cYbevfSOD1CC"
      }
    },
    {
      "cell_type": "code",
      "source": [
        "X1_train_prediction = model1.predict(X_train)\n",
        "train_data1_accuracy = accuracy_score(Y_train, X1_train_prediction)\n",
        "print('accuracy on training_data:', train_data1_accuracy)"
      ],
      "metadata": {
        "colab": {
          "base_uri": "https://localhost:8080/"
        },
        "id": "pMpMPUnvDzui",
        "outputId": "bd7744c4-7763-4188-d44b-c01872c4bb8e"
      },
      "execution_count": null,
      "outputs": [
        {
          "output_type": "stream",
          "name": "stdout",
          "text": [
            "accuracy on training_data: 1.0\n"
          ]
        }
      ]
    },
    {
      "cell_type": "code",
      "source": [
        "X1_test_prediction = model1.predict(X_test)\n",
        "test_data1_accuracy = accuracy_score(Y_test, X1_test_prediction)\n",
        "print('accuracy on test data:', test_data1_accuracy)"
      ],
      "metadata": {
        "colab": {
          "base_uri": "https://localhost:8080/"
        },
        "id": "D40qETVxEPzd",
        "outputId": "af02cb5a-7e02-483c-e071-38ebf0e7d2de"
      },
      "execution_count": null,
      "outputs": [
        {
          "output_type": "stream",
          "name": "stdout",
          "text": [
            "accuracy on test data: 1.0\n"
          ]
        }
      ]
    },
    {
      "cell_type": "code",
      "source": [
        "input_data1=(67,20.0,435.0,459.0,459.0,1.11,37.0,3.22,81,24,15.0,61.97,2,3,1,2,0,0,0,0,0)\n",
        "input_data1_as_numpy_array = np.array(input_data1)\n",
        "input_data1_reshaped = input_data1_as_numpy_array.reshape(1,-1)\n",
        "prediction1 = model1.predict(input_data1_reshaped)\n",
        "print(prediction1[0])\n",
        "if(prediction1[0]==0):\n",
        "  print('Severe COPD')\n",
        "elif(prediction1[0]==1):\n",
        "  print('Moderate COPD')\n",
        "elif(prediction1[0]==2):\n",
        "  print('Very severe COPD')\n",
        "else:\n",
        "  print('Mild COPD')"
      ],
      "metadata": {
        "colab": {
          "base_uri": "https://localhost:8080/"
        },
        "id": "sg0sQz3MEczd",
        "outputId": "5dfa4664-e342-45bd-ef66-bed4c347d7c6"
      },
      "execution_count": null,
      "outputs": [
        {
          "output_type": "stream",
          "name": "stdout",
          "text": [
            "0\n",
            "Severe COPD\n"
          ]
        },
        {
          "output_type": "stream",
          "name": "stderr",
          "text": [
            "/usr/local/lib/python3.10/dist-packages/sklearn/base.py:439: UserWarning: X does not have valid feature names, but DecisionTreeClassifier was fitted with feature names\n",
            "  warnings.warn(\n"
          ]
        }
      ]
    },
    {
      "cell_type": "markdown",
      "source": [
        "RandomForestClassifier"
      ],
      "metadata": {
        "id": "gLXeuI8gE4p5"
      }
    },
    {
      "cell_type": "markdown",
      "source": [
        "training"
      ],
      "metadata": {
        "id": "1qvMgvHBFG3g"
      }
    },
    {
      "cell_type": "code",
      "source": [
        "model2 = RandomForestClassifier()"
      ],
      "metadata": {
        "id": "UhPnq8KPE9D6"
      },
      "execution_count": null,
      "outputs": []
    },
    {
      "cell_type": "code",
      "source": [
        "model2.fit(X_train, Y_train)"
      ],
      "metadata": {
        "colab": {
          "base_uri": "https://localhost:8080/",
          "height": 74
        },
        "id": "3-q0nY4NFSky",
        "outputId": "25d6d98b-9260-43c9-a427-09050ffe523e"
      },
      "execution_count": null,
      "outputs": [
        {
          "output_type": "execute_result",
          "data": {
            "text/plain": [
              "RandomForestClassifier()"
            ],
            "text/html": [
              "<style>#sk-container-id-7 {color: black;background-color: white;}#sk-container-id-7 pre{padding: 0;}#sk-container-id-7 div.sk-toggleable {background-color: white;}#sk-container-id-7 label.sk-toggleable__label {cursor: pointer;display: block;width: 100%;margin-bottom: 0;padding: 0.3em;box-sizing: border-box;text-align: center;}#sk-container-id-7 label.sk-toggleable__label-arrow:before {content: \"▸\";float: left;margin-right: 0.25em;color: #696969;}#sk-container-id-7 label.sk-toggleable__label-arrow:hover:before {color: black;}#sk-container-id-7 div.sk-estimator:hover label.sk-toggleable__label-arrow:before {color: black;}#sk-container-id-7 div.sk-toggleable__content {max-height: 0;max-width: 0;overflow: hidden;text-align: left;background-color: #f0f8ff;}#sk-container-id-7 div.sk-toggleable__content pre {margin: 0.2em;color: black;border-radius: 0.25em;background-color: #f0f8ff;}#sk-container-id-7 input.sk-toggleable__control:checked~div.sk-toggleable__content {max-height: 200px;max-width: 100%;overflow: auto;}#sk-container-id-7 input.sk-toggleable__control:checked~label.sk-toggleable__label-arrow:before {content: \"▾\";}#sk-container-id-7 div.sk-estimator input.sk-toggleable__control:checked~label.sk-toggleable__label {background-color: #d4ebff;}#sk-container-id-7 div.sk-label input.sk-toggleable__control:checked~label.sk-toggleable__label {background-color: #d4ebff;}#sk-container-id-7 input.sk-hidden--visually {border: 0;clip: rect(1px 1px 1px 1px);clip: rect(1px, 1px, 1px, 1px);height: 1px;margin: -1px;overflow: hidden;padding: 0;position: absolute;width: 1px;}#sk-container-id-7 div.sk-estimator {font-family: monospace;background-color: #f0f8ff;border: 1px dotted black;border-radius: 0.25em;box-sizing: border-box;margin-bottom: 0.5em;}#sk-container-id-7 div.sk-estimator:hover {background-color: #d4ebff;}#sk-container-id-7 div.sk-parallel-item::after {content: \"\";width: 100%;border-bottom: 1px solid gray;flex-grow: 1;}#sk-container-id-7 div.sk-label:hover label.sk-toggleable__label {background-color: #d4ebff;}#sk-container-id-7 div.sk-serial::before {content: \"\";position: absolute;border-left: 1px solid gray;box-sizing: border-box;top: 0;bottom: 0;left: 50%;z-index: 0;}#sk-container-id-7 div.sk-serial {display: flex;flex-direction: column;align-items: center;background-color: white;padding-right: 0.2em;padding-left: 0.2em;position: relative;}#sk-container-id-7 div.sk-item {position: relative;z-index: 1;}#sk-container-id-7 div.sk-parallel {display: flex;align-items: stretch;justify-content: center;background-color: white;position: relative;}#sk-container-id-7 div.sk-item::before, #sk-container-id-7 div.sk-parallel-item::before {content: \"\";position: absolute;border-left: 1px solid gray;box-sizing: border-box;top: 0;bottom: 0;left: 50%;z-index: -1;}#sk-container-id-7 div.sk-parallel-item {display: flex;flex-direction: column;z-index: 1;position: relative;background-color: white;}#sk-container-id-7 div.sk-parallel-item:first-child::after {align-self: flex-end;width: 50%;}#sk-container-id-7 div.sk-parallel-item:last-child::after {align-self: flex-start;width: 50%;}#sk-container-id-7 div.sk-parallel-item:only-child::after {width: 0;}#sk-container-id-7 div.sk-dashed-wrapped {border: 1px dashed gray;margin: 0 0.4em 0.5em 0.4em;box-sizing: border-box;padding-bottom: 0.4em;background-color: white;}#sk-container-id-7 div.sk-label label {font-family: monospace;font-weight: bold;display: inline-block;line-height: 1.2em;}#sk-container-id-7 div.sk-label-container {text-align: center;}#sk-container-id-7 div.sk-container {/* jupyter's `normalize.less` sets `[hidden] { display: none; }` but bootstrap.min.css set `[hidden] { display: none !important; }` so we also need the `!important` here to be able to override the default hidden behavior on the sphinx rendered scikit-learn.org. See: https://github.com/scikit-learn/scikit-learn/issues/21755 */display: inline-block !important;position: relative;}#sk-container-id-7 div.sk-text-repr-fallback {display: none;}</style><div id=\"sk-container-id-7\" class=\"sk-top-container\"><div class=\"sk-text-repr-fallback\"><pre>RandomForestClassifier()</pre><b>In a Jupyter environment, please rerun this cell to show the HTML representation or trust the notebook. <br />On GitHub, the HTML representation is unable to render, please try loading this page with nbviewer.org.</b></div><div class=\"sk-container\" hidden><div class=\"sk-item\"><div class=\"sk-estimator sk-toggleable\"><input class=\"sk-toggleable__control sk-hidden--visually\" id=\"sk-estimator-id-7\" type=\"checkbox\" checked><label for=\"sk-estimator-id-7\" class=\"sk-toggleable__label sk-toggleable__label-arrow\">RandomForestClassifier</label><div class=\"sk-toggleable__content\"><pre>RandomForestClassifier()</pre></div></div></div></div></div>"
            ]
          },
          "metadata": {},
          "execution_count": 80
        }
      ]
    },
    {
      "cell_type": "markdown",
      "source": [
        "evaluation"
      ],
      "metadata": {
        "id": "R8R4kceXFcV1"
      }
    },
    {
      "cell_type": "code",
      "source": [
        "X2_train_prediction = model2.predict(X_train)\n",
        "training_data2_accuracy = accuracy_score(Y_train, X2_train_prediction)\n",
        "print('training accuracy:', training_data2_accuracy)"
      ],
      "metadata": {
        "colab": {
          "base_uri": "https://localhost:8080/"
        },
        "id": "9HM4pC7YFYQz",
        "outputId": "93489e57-42ee-4ddc-a427-f8e1df2a4166"
      },
      "execution_count": null,
      "outputs": [
        {
          "output_type": "stream",
          "name": "stdout",
          "text": [
            "training accuracy: 1.0\n"
          ]
        }
      ]
    },
    {
      "cell_type": "code",
      "source": [
        "X2_test_prediction = model2.predict(X_test)\n",
        "test_data2_accuracy = accuracy_score(Y_test, X2_test_prediction)\n",
        "print('test accuracy:',test_data2_accuracy)"
      ],
      "metadata": {
        "colab": {
          "base_uri": "https://localhost:8080/"
        },
        "id": "5MUJLu83F0wh",
        "outputId": "be258b16-87a8-4cec-b016-d2932b7645f8"
      },
      "execution_count": null,
      "outputs": [
        {
          "output_type": "stream",
          "name": "stdout",
          "text": [
            "test accuracy: 0.9\n"
          ]
        }
      ]
    },
    {
      "cell_type": "code",
      "source": [
        "input_data2=(67,20.0,435.0,459.0,459.0,1.11,37.0,3.22,81,24,15.0,61.97,2,3,1,2,0,0,0,0,0)\n",
        "input_data2_as_numpy_array = np.array(input_data2)\n",
        "input_data2_reshaped = input_data2_as_numpy_array.reshape(1,-1)\n",
        "prediction2 = model2.predict(input_data2_reshaped)\n",
        "print(prediction2[0])\n",
        "if(prediction2[0]==0):\n",
        "  print('Severe COPD')\n",
        "elif(prediction2[0]==1):\n",
        "  print('Moderate COPD')\n",
        "elif(prediction2[0]==2):\n",
        "  print('Very severe COPD')\n",
        "else:\n",
        "  print('Mild COPD')"
      ],
      "metadata": {
        "colab": {
          "base_uri": "https://localhost:8080/"
        },
        "id": "nyUr5LDNGFxi",
        "outputId": "4f008139-e6d6-4153-a559-c9f743fc7d1e"
      },
      "execution_count": null,
      "outputs": [
        {
          "output_type": "stream",
          "name": "stdout",
          "text": [
            "0\n",
            "Severe COPD\n"
          ]
        },
        {
          "output_type": "stream",
          "name": "stderr",
          "text": [
            "/usr/local/lib/python3.10/dist-packages/sklearn/base.py:439: UserWarning: X does not have valid feature names, but RandomForestClassifier was fitted with feature names\n",
            "  warnings.warn(\n"
          ]
        }
      ]
    },
    {
      "cell_type": "markdown",
      "source": [
        "KNN"
      ],
      "metadata": {
        "id": "IEV-46xAGUxb"
      }
    },
    {
      "cell_type": "markdown",
      "source": [
        "training"
      ],
      "metadata": {
        "id": "o8OiyaysGYoS"
      }
    },
    {
      "cell_type": "code",
      "source": [
        "model3 = KNeighborsClassifier()"
      ],
      "metadata": {
        "id": "oUTMqhY4GaKu"
      },
      "execution_count": null,
      "outputs": []
    },
    {
      "cell_type": "code",
      "source": [
        "model3.fit(X_train, Y_train)"
      ],
      "metadata": {
        "colab": {
          "base_uri": "https://localhost:8080/",
          "height": 74
        },
        "id": "uBgwPiKZGfGG",
        "outputId": "b353e682-fcdb-4b92-95aa-cf846f8059c4"
      },
      "execution_count": null,
      "outputs": [
        {
          "output_type": "execute_result",
          "data": {
            "text/plain": [
              "KNeighborsClassifier()"
            ],
            "text/html": [
              "<style>#sk-container-id-8 {color: black;background-color: white;}#sk-container-id-8 pre{padding: 0;}#sk-container-id-8 div.sk-toggleable {background-color: white;}#sk-container-id-8 label.sk-toggleable__label {cursor: pointer;display: block;width: 100%;margin-bottom: 0;padding: 0.3em;box-sizing: border-box;text-align: center;}#sk-container-id-8 label.sk-toggleable__label-arrow:before {content: \"▸\";float: left;margin-right: 0.25em;color: #696969;}#sk-container-id-8 label.sk-toggleable__label-arrow:hover:before {color: black;}#sk-container-id-8 div.sk-estimator:hover label.sk-toggleable__label-arrow:before {color: black;}#sk-container-id-8 div.sk-toggleable__content {max-height: 0;max-width: 0;overflow: hidden;text-align: left;background-color: #f0f8ff;}#sk-container-id-8 div.sk-toggleable__content pre {margin: 0.2em;color: black;border-radius: 0.25em;background-color: #f0f8ff;}#sk-container-id-8 input.sk-toggleable__control:checked~div.sk-toggleable__content {max-height: 200px;max-width: 100%;overflow: auto;}#sk-container-id-8 input.sk-toggleable__control:checked~label.sk-toggleable__label-arrow:before {content: \"▾\";}#sk-container-id-8 div.sk-estimator input.sk-toggleable__control:checked~label.sk-toggleable__label {background-color: #d4ebff;}#sk-container-id-8 div.sk-label input.sk-toggleable__control:checked~label.sk-toggleable__label {background-color: #d4ebff;}#sk-container-id-8 input.sk-hidden--visually {border: 0;clip: rect(1px 1px 1px 1px);clip: rect(1px, 1px, 1px, 1px);height: 1px;margin: -1px;overflow: hidden;padding: 0;position: absolute;width: 1px;}#sk-container-id-8 div.sk-estimator {font-family: monospace;background-color: #f0f8ff;border: 1px dotted black;border-radius: 0.25em;box-sizing: border-box;margin-bottom: 0.5em;}#sk-container-id-8 div.sk-estimator:hover {background-color: #d4ebff;}#sk-container-id-8 div.sk-parallel-item::after {content: \"\";width: 100%;border-bottom: 1px solid gray;flex-grow: 1;}#sk-container-id-8 div.sk-label:hover label.sk-toggleable__label {background-color: #d4ebff;}#sk-container-id-8 div.sk-serial::before {content: \"\";position: absolute;border-left: 1px solid gray;box-sizing: border-box;top: 0;bottom: 0;left: 50%;z-index: 0;}#sk-container-id-8 div.sk-serial {display: flex;flex-direction: column;align-items: center;background-color: white;padding-right: 0.2em;padding-left: 0.2em;position: relative;}#sk-container-id-8 div.sk-item {position: relative;z-index: 1;}#sk-container-id-8 div.sk-parallel {display: flex;align-items: stretch;justify-content: center;background-color: white;position: relative;}#sk-container-id-8 div.sk-item::before, #sk-container-id-8 div.sk-parallel-item::before {content: \"\";position: absolute;border-left: 1px solid gray;box-sizing: border-box;top: 0;bottom: 0;left: 50%;z-index: -1;}#sk-container-id-8 div.sk-parallel-item {display: flex;flex-direction: column;z-index: 1;position: relative;background-color: white;}#sk-container-id-8 div.sk-parallel-item:first-child::after {align-self: flex-end;width: 50%;}#sk-container-id-8 div.sk-parallel-item:last-child::after {align-self: flex-start;width: 50%;}#sk-container-id-8 div.sk-parallel-item:only-child::after {width: 0;}#sk-container-id-8 div.sk-dashed-wrapped {border: 1px dashed gray;margin: 0 0.4em 0.5em 0.4em;box-sizing: border-box;padding-bottom: 0.4em;background-color: white;}#sk-container-id-8 div.sk-label label {font-family: monospace;font-weight: bold;display: inline-block;line-height: 1.2em;}#sk-container-id-8 div.sk-label-container {text-align: center;}#sk-container-id-8 div.sk-container {/* jupyter's `normalize.less` sets `[hidden] { display: none; }` but bootstrap.min.css set `[hidden] { display: none !important; }` so we also need the `!important` here to be able to override the default hidden behavior on the sphinx rendered scikit-learn.org. See: https://github.com/scikit-learn/scikit-learn/issues/21755 */display: inline-block !important;position: relative;}#sk-container-id-8 div.sk-text-repr-fallback {display: none;}</style><div id=\"sk-container-id-8\" class=\"sk-top-container\"><div class=\"sk-text-repr-fallback\"><pre>KNeighborsClassifier()</pre><b>In a Jupyter environment, please rerun this cell to show the HTML representation or trust the notebook. <br />On GitHub, the HTML representation is unable to render, please try loading this page with nbviewer.org.</b></div><div class=\"sk-container\" hidden><div class=\"sk-item\"><div class=\"sk-estimator sk-toggleable\"><input class=\"sk-toggleable__control sk-hidden--visually\" id=\"sk-estimator-id-8\" type=\"checkbox\" checked><label for=\"sk-estimator-id-8\" class=\"sk-toggleable__label sk-toggleable__label-arrow\">KNeighborsClassifier</label><div class=\"sk-toggleable__content\"><pre>KNeighborsClassifier()</pre></div></div></div></div></div>"
            ]
          },
          "metadata": {},
          "execution_count": 85
        }
      ]
    },
    {
      "cell_type": "markdown",
      "source": [
        "model evaluation"
      ],
      "metadata": {
        "id": "8fgFfCZmGmiS"
      }
    },
    {
      "cell_type": "code",
      "source": [
        "X3_train_prediction = model3.predict(X_train)\n",
        "training_data3_accuracy = accuracy_score(Y_train, X3_train_prediction)\n",
        "print('train accuracy:',training_data3_accuracy)"
      ],
      "metadata": {
        "colab": {
          "base_uri": "https://localhost:8080/"
        },
        "id": "haJOEz0oGltF",
        "outputId": "4edf3b9a-276f-4a0b-d594-d0494b5362e3"
      },
      "execution_count": null,
      "outputs": [
        {
          "output_type": "stream",
          "name": "stdout",
          "text": [
            "train accuracy: 0.810126582278481\n"
          ]
        }
      ]
    },
    {
      "cell_type": "code",
      "source": [
        "X3_test_prediction = model3.predict(X_test)\n",
        "test_data3_accuracy = accuracy_score(Y_test, X3_test_prediction)\n",
        "print('test accuracy:',test_data3_accuracy)"
      ],
      "metadata": {
        "colab": {
          "base_uri": "https://localhost:8080/"
        },
        "id": "ZxAKXpuaG5Ch",
        "outputId": "6c94ebee-b632-4bd4-fdca-b19b97693003"
      },
      "execution_count": null,
      "outputs": [
        {
          "output_type": "stream",
          "name": "stdout",
          "text": [
            "test accuracy: 0.35\n"
          ]
        }
      ]
    },
    {
      "cell_type": "code",
      "source": [
        "input_data3=(67,20.0,435.0,459.0,459.0,1.11,37.0,3.22,81,24,15.0,61.97,2,3,1,2,0,0,0,0,0)\n",
        "input_data3_as_numpy_array = np.array(input_data3)\n",
        "input_data3_reshaped = input_data3_as_numpy_array.reshape(1,-1)\n",
        "prediction3 = model3.predict(input_data3_reshaped)\n",
        "print(prediction3[0])\n",
        "if(prediction3[0]==0):\n",
        "  print('Severe COPD')\n",
        "elif(prediction3[0]==1):\n",
        "  print('Moderate COPD')\n",
        "elif(prediction3[0]==2):\n",
        "  print('Very severe COPD')\n",
        "else:\n",
        "  print('Mild COPD')"
      ],
      "metadata": {
        "colab": {
          "base_uri": "https://localhost:8080/"
        },
        "id": "0HKFHlEKHMZh",
        "outputId": "95d50311-9cf2-4c27-a407-fab946dcf49e"
      },
      "execution_count": null,
      "outputs": [
        {
          "output_type": "stream",
          "name": "stdout",
          "text": [
            "0\n",
            "Severe COPD\n"
          ]
        },
        {
          "output_type": "stream",
          "name": "stderr",
          "text": [
            "/usr/local/lib/python3.10/dist-packages/sklearn/base.py:439: UserWarning: X does not have valid feature names, but KNeighborsClassifier was fitted with feature names\n",
            "  warnings.warn(\n"
          ]
        }
      ]
    },
    {
      "cell_type": "markdown",
      "source": [
        "naive bayes"
      ],
      "metadata": {
        "id": "yavYPVdLeSOi"
      }
    },
    {
      "cell_type": "markdown",
      "source": [
        "training"
      ],
      "metadata": {
        "id": "1Ba10GhkeWTQ"
      }
    },
    {
      "cell_type": "code",
      "source": [
        "gnb = GaussianNB()"
      ],
      "metadata": {
        "id": "a3Pz7ihGeK9l"
      },
      "execution_count": null,
      "outputs": []
    },
    {
      "cell_type": "code",
      "source": [
        "gnb.fit(X_train, Y_train)"
      ],
      "metadata": {
        "colab": {
          "base_uri": "https://localhost:8080/",
          "height": 74
        },
        "id": "pAuaVioyekwN",
        "outputId": "b9ef4653-380d-400f-fc68-befac12cf4c3"
      },
      "execution_count": null,
      "outputs": [
        {
          "output_type": "execute_result",
          "data": {
            "text/plain": [
              "GaussianNB()"
            ],
            "text/html": [
              "<style>#sk-container-id-9 {color: black;background-color: white;}#sk-container-id-9 pre{padding: 0;}#sk-container-id-9 div.sk-toggleable {background-color: white;}#sk-container-id-9 label.sk-toggleable__label {cursor: pointer;display: block;width: 100%;margin-bottom: 0;padding: 0.3em;box-sizing: border-box;text-align: center;}#sk-container-id-9 label.sk-toggleable__label-arrow:before {content: \"▸\";float: left;margin-right: 0.25em;color: #696969;}#sk-container-id-9 label.sk-toggleable__label-arrow:hover:before {color: black;}#sk-container-id-9 div.sk-estimator:hover label.sk-toggleable__label-arrow:before {color: black;}#sk-container-id-9 div.sk-toggleable__content {max-height: 0;max-width: 0;overflow: hidden;text-align: left;background-color: #f0f8ff;}#sk-container-id-9 div.sk-toggleable__content pre {margin: 0.2em;color: black;border-radius: 0.25em;background-color: #f0f8ff;}#sk-container-id-9 input.sk-toggleable__control:checked~div.sk-toggleable__content {max-height: 200px;max-width: 100%;overflow: auto;}#sk-container-id-9 input.sk-toggleable__control:checked~label.sk-toggleable__label-arrow:before {content: \"▾\";}#sk-container-id-9 div.sk-estimator input.sk-toggleable__control:checked~label.sk-toggleable__label {background-color: #d4ebff;}#sk-container-id-9 div.sk-label input.sk-toggleable__control:checked~label.sk-toggleable__label {background-color: #d4ebff;}#sk-container-id-9 input.sk-hidden--visually {border: 0;clip: rect(1px 1px 1px 1px);clip: rect(1px, 1px, 1px, 1px);height: 1px;margin: -1px;overflow: hidden;padding: 0;position: absolute;width: 1px;}#sk-container-id-9 div.sk-estimator {font-family: monospace;background-color: #f0f8ff;border: 1px dotted black;border-radius: 0.25em;box-sizing: border-box;margin-bottom: 0.5em;}#sk-container-id-9 div.sk-estimator:hover {background-color: #d4ebff;}#sk-container-id-9 div.sk-parallel-item::after {content: \"\";width: 100%;border-bottom: 1px solid gray;flex-grow: 1;}#sk-container-id-9 div.sk-label:hover label.sk-toggleable__label {background-color: #d4ebff;}#sk-container-id-9 div.sk-serial::before {content: \"\";position: absolute;border-left: 1px solid gray;box-sizing: border-box;top: 0;bottom: 0;left: 50%;z-index: 0;}#sk-container-id-9 div.sk-serial {display: flex;flex-direction: column;align-items: center;background-color: white;padding-right: 0.2em;padding-left: 0.2em;position: relative;}#sk-container-id-9 div.sk-item {position: relative;z-index: 1;}#sk-container-id-9 div.sk-parallel {display: flex;align-items: stretch;justify-content: center;background-color: white;position: relative;}#sk-container-id-9 div.sk-item::before, #sk-container-id-9 div.sk-parallel-item::before {content: \"\";position: absolute;border-left: 1px solid gray;box-sizing: border-box;top: 0;bottom: 0;left: 50%;z-index: -1;}#sk-container-id-9 div.sk-parallel-item {display: flex;flex-direction: column;z-index: 1;position: relative;background-color: white;}#sk-container-id-9 div.sk-parallel-item:first-child::after {align-self: flex-end;width: 50%;}#sk-container-id-9 div.sk-parallel-item:last-child::after {align-self: flex-start;width: 50%;}#sk-container-id-9 div.sk-parallel-item:only-child::after {width: 0;}#sk-container-id-9 div.sk-dashed-wrapped {border: 1px dashed gray;margin: 0 0.4em 0.5em 0.4em;box-sizing: border-box;padding-bottom: 0.4em;background-color: white;}#sk-container-id-9 div.sk-label label {font-family: monospace;font-weight: bold;display: inline-block;line-height: 1.2em;}#sk-container-id-9 div.sk-label-container {text-align: center;}#sk-container-id-9 div.sk-container {/* jupyter's `normalize.less` sets `[hidden] { display: none; }` but bootstrap.min.css set `[hidden] { display: none !important; }` so we also need the `!important` here to be able to override the default hidden behavior on the sphinx rendered scikit-learn.org. See: https://github.com/scikit-learn/scikit-learn/issues/21755 */display: inline-block !important;position: relative;}#sk-container-id-9 div.sk-text-repr-fallback {display: none;}</style><div id=\"sk-container-id-9\" class=\"sk-top-container\"><div class=\"sk-text-repr-fallback\"><pre>GaussianNB()</pre><b>In a Jupyter environment, please rerun this cell to show the HTML representation or trust the notebook. <br />On GitHub, the HTML representation is unable to render, please try loading this page with nbviewer.org.</b></div><div class=\"sk-container\" hidden><div class=\"sk-item\"><div class=\"sk-estimator sk-toggleable\"><input class=\"sk-toggleable__control sk-hidden--visually\" id=\"sk-estimator-id-9\" type=\"checkbox\" checked><label for=\"sk-estimator-id-9\" class=\"sk-toggleable__label sk-toggleable__label-arrow\">GaussianNB</label><div class=\"sk-toggleable__content\"><pre>GaussianNB()</pre></div></div></div></div></div>"
            ]
          },
          "metadata": {},
          "execution_count": 90
        }
      ]
    },
    {
      "cell_type": "markdown",
      "source": [
        "evaluation"
      ],
      "metadata": {
        "id": "ZBL1nRXkfCf_"
      }
    },
    {
      "cell_type": "code",
      "source": [
        "X4_train_prediction = gnb.predict(X_train)\n",
        "training_data4_accuracy = accuracy_score(Y_train, X4_train_prediction)\n",
        "print('training accuracy:',training_data4_accuracy)"
      ],
      "metadata": {
        "colab": {
          "base_uri": "https://localhost:8080/"
        },
        "id": "PMzR_3BcfBYY",
        "outputId": "db991381-6f30-456e-fa88-ccffff5b9e78"
      },
      "execution_count": null,
      "outputs": [
        {
          "output_type": "stream",
          "name": "stdout",
          "text": [
            "training accuracy: 1.0\n"
          ]
        }
      ]
    },
    {
      "cell_type": "code",
      "source": [
        "X4_test_prediction = gnb.predict(X_test)\n",
        "test_data4_accuracy = accuracy_score(Y_test, X4_test_prediction)\n",
        "print('test accuracy:', test_data4_accuracy)"
      ],
      "metadata": {
        "colab": {
          "base_uri": "https://localhost:8080/"
        },
        "id": "2oQNGDzPfqSJ",
        "outputId": "ccfbc1f2-45b8-4b5d-e0e8-386431b098ba"
      },
      "execution_count": null,
      "outputs": [
        {
          "output_type": "stream",
          "name": "stdout",
          "text": [
            "test accuracy: 1.0\n"
          ]
        }
      ]
    },
    {
      "cell_type": "code",
      "source": [
        "input_data4=(67,20.0,435.0,459.0,459.0,1.11,37.0,3.22,81,24,15.0,61.97,2,3,1,2,0,0,0,0,0)\n",
        "input_data4_as_numpy_array = np.array(input_data4)\n",
        "input_data4_reshaped = input_data4_as_numpy_array.reshape(1,-1)\n",
        "prediction4 = gnb.predict(input_data4_reshaped)\n",
        "print(prediction4[0])\n",
        "if(prediction4[0]==0):\n",
        "  print('Severe COPD')\n",
        "elif(prediction4[0]==1):\n",
        "  print('Moderate COPD')\n",
        "elif(prediction4[0]==2):\n",
        "  print('Very severe COPD')\n",
        "else:\n",
        "  print('Mild COPD')"
      ],
      "metadata": {
        "colab": {
          "base_uri": "https://localhost:8080/"
        },
        "id": "uoWj9nKGgKEd",
        "outputId": "8ed8ff56-8496-451e-b667-3fe65d9336d4"
      },
      "execution_count": null,
      "outputs": [
        {
          "output_type": "stream",
          "name": "stdout",
          "text": [
            "0\n",
            "Severe COPD\n"
          ]
        },
        {
          "output_type": "stream",
          "name": "stderr",
          "text": [
            "/usr/local/lib/python3.10/dist-packages/sklearn/base.py:439: UserWarning: X does not have valid feature names, but GaussianNB was fitted with feature names\n",
            "  warnings.warn(\n"
          ]
        }
      ]
    },
    {
      "cell_type": "markdown",
      "source": [
        "SVM"
      ],
      "metadata": {
        "id": "qQH8uG-IgXo5"
      }
    },
    {
      "cell_type": "markdown",
      "source": [
        "standardization"
      ],
      "metadata": {
        "id": "HDC9wd8YgaLS"
      }
    },
    {
      "cell_type": "code",
      "source": [
        "scaler = StandardScaler()\n",
        "scaler.fit(X)\n",
        "standardised_data = scaler.transform(X)\n",
        "print(standardised_data)"
      ],
      "metadata": {
        "colab": {
          "base_uri": "https://localhost:8080/"
        },
        "id": "qjcbY31pgY8e",
        "outputId": "2b9f67cc-aed5-4959-bb48-e9b518b908bd"
      },
      "execution_count": null,
      "outputs": [
        {
          "output_type": "stream",
          "name": "stdout",
          "text": [
            "[[ 0.87815792  0.82441703 -2.55108701 ... -0.35355339  1.98746069\n",
            "  -0.31622777]\n",
            " [ 1.13348137  0.41622855 -2.11928258 ... -0.35355339  1.98746069\n",
            "   3.16227766]\n",
            " [ 1.26114309 -1.17570651 -1.77383903 ... -0.35355339  1.98746069\n",
            "  -0.31622777]\n",
            " ...\n",
            " [ 0.62283447  0.00804008  1.82453123 ... -0.35355339 -0.50315461\n",
            "   3.16227766]\n",
            " [-0.2707976  -0.4001484   0.78820059 ...  2.82842712 -0.50315461\n",
            "  -0.31622777]\n",
            " [-2.05806173 -0.4001484   2.89924448 ... -0.35355339 -0.50315461\n",
            "  -0.31622777]]\n"
          ]
        }
      ]
    },
    {
      "cell_type": "code",
      "source": [
        "X5 = standardised_data\n",
        "Y5 = patient_data['COPDSEVERITY']"
      ],
      "metadata": {
        "id": "YLnrFct4hB6u"
      },
      "execution_count": null,
      "outputs": []
    },
    {
      "cell_type": "code",
      "source": [
        "print(X5)"
      ],
      "metadata": {
        "colab": {
          "base_uri": "https://localhost:8080/"
        },
        "id": "B2Q-eDVliM81",
        "outputId": "eadb84eb-b1a8-46e2-e860-1df0fef9ff0b"
      },
      "execution_count": null,
      "outputs": [
        {
          "output_type": "stream",
          "name": "stdout",
          "text": [
            "[[ 0.87815792  0.82441703 -2.55108701 ... -0.35355339  1.98746069\n",
            "  -0.31622777]\n",
            " [ 1.13348137  0.41622855 -2.11928258 ... -0.35355339  1.98746069\n",
            "   3.16227766]\n",
            " [ 1.26114309 -1.17570651 -1.77383903 ... -0.35355339  1.98746069\n",
            "  -0.31622777]\n",
            " ...\n",
            " [ 0.62283447  0.00804008  1.82453123 ... -0.35355339 -0.50315461\n",
            "   3.16227766]\n",
            " [-0.2707976  -0.4001484   0.78820059 ...  2.82842712 -0.50315461\n",
            "  -0.31622777]\n",
            " [-2.05806173 -0.4001484   2.89924448 ... -0.35355339 -0.50315461\n",
            "  -0.31622777]]\n"
          ]
        }
      ]
    },
    {
      "cell_type": "code",
      "source": [
        "print(Y5)"
      ],
      "metadata": {
        "colab": {
          "base_uri": "https://localhost:8080/"
        },
        "id": "TgER8HXIiRkY",
        "outputId": "e7afb44f-c36c-4982-c51b-e7b0dd131490"
      },
      "execution_count": null,
      "outputs": [
        {
          "output_type": "stream",
          "name": "stdout",
          "text": [
            "0     0\n",
            "1     1\n",
            "2     1\n",
            "3     2\n",
            "4     0\n",
            "     ..\n",
            "95    1\n",
            "96    3\n",
            "97    3\n",
            "98    1\n",
            "99    0\n",
            "Name: COPDSEVERITY, Length: 99, dtype: int64\n"
          ]
        }
      ]
    },
    {
      "cell_type": "code",
      "source": [
        "X5_train, X5_test, Y5_train, Y5_test = train_test_split(X5, Y5, test_size = 0.2, stratify=Y5, random_state = 2)"
      ],
      "metadata": {
        "id": "9IBUWx0ohevW"
      },
      "execution_count": null,
      "outputs": []
    },
    {
      "cell_type": "code",
      "source": [
        "print(X5.shape,X5_train.shape,X5_test.shape)"
      ],
      "metadata": {
        "colab": {
          "base_uri": "https://localhost:8080/"
        },
        "id": "WPziX53HjT7n",
        "outputId": "bf7d7072-f0b9-4d8b-dd06-783f27d50e22"
      },
      "execution_count": null,
      "outputs": [
        {
          "output_type": "stream",
          "name": "stdout",
          "text": [
            "(99, 21) (79, 21) (20, 21)\n"
          ]
        }
      ]
    },
    {
      "cell_type": "markdown",
      "source": [
        "training"
      ],
      "metadata": {
        "id": "2pfKcVhDhS9U"
      }
    },
    {
      "cell_type": "code",
      "source": [
        "classifier = svm.SVC(kernel = 'linear')\n",
        "classifier.fit(X5_train,Y5_train)"
      ],
      "metadata": {
        "colab": {
          "base_uri": "https://localhost:8080/",
          "height": 74
        },
        "id": "Bo5cFv3khRNr",
        "outputId": "1afe5454-908d-46e7-8695-5d9cc48f36f6"
      },
      "execution_count": null,
      "outputs": [
        {
          "output_type": "execute_result",
          "data": {
            "text/plain": [
              "SVC(kernel='linear')"
            ],
            "text/html": [
              "<style>#sk-container-id-10 {color: black;background-color: white;}#sk-container-id-10 pre{padding: 0;}#sk-container-id-10 div.sk-toggleable {background-color: white;}#sk-container-id-10 label.sk-toggleable__label {cursor: pointer;display: block;width: 100%;margin-bottom: 0;padding: 0.3em;box-sizing: border-box;text-align: center;}#sk-container-id-10 label.sk-toggleable__label-arrow:before {content: \"▸\";float: left;margin-right: 0.25em;color: #696969;}#sk-container-id-10 label.sk-toggleable__label-arrow:hover:before {color: black;}#sk-container-id-10 div.sk-estimator:hover label.sk-toggleable__label-arrow:before {color: black;}#sk-container-id-10 div.sk-toggleable__content {max-height: 0;max-width: 0;overflow: hidden;text-align: left;background-color: #f0f8ff;}#sk-container-id-10 div.sk-toggleable__content pre {margin: 0.2em;color: black;border-radius: 0.25em;background-color: #f0f8ff;}#sk-container-id-10 input.sk-toggleable__control:checked~div.sk-toggleable__content {max-height: 200px;max-width: 100%;overflow: auto;}#sk-container-id-10 input.sk-toggleable__control:checked~label.sk-toggleable__label-arrow:before {content: \"▾\";}#sk-container-id-10 div.sk-estimator input.sk-toggleable__control:checked~label.sk-toggleable__label {background-color: #d4ebff;}#sk-container-id-10 div.sk-label input.sk-toggleable__control:checked~label.sk-toggleable__label {background-color: #d4ebff;}#sk-container-id-10 input.sk-hidden--visually {border: 0;clip: rect(1px 1px 1px 1px);clip: rect(1px, 1px, 1px, 1px);height: 1px;margin: -1px;overflow: hidden;padding: 0;position: absolute;width: 1px;}#sk-container-id-10 div.sk-estimator {font-family: monospace;background-color: #f0f8ff;border: 1px dotted black;border-radius: 0.25em;box-sizing: border-box;margin-bottom: 0.5em;}#sk-container-id-10 div.sk-estimator:hover {background-color: #d4ebff;}#sk-container-id-10 div.sk-parallel-item::after {content: \"\";width: 100%;border-bottom: 1px solid gray;flex-grow: 1;}#sk-container-id-10 div.sk-label:hover label.sk-toggleable__label {background-color: #d4ebff;}#sk-container-id-10 div.sk-serial::before {content: \"\";position: absolute;border-left: 1px solid gray;box-sizing: border-box;top: 0;bottom: 0;left: 50%;z-index: 0;}#sk-container-id-10 div.sk-serial {display: flex;flex-direction: column;align-items: center;background-color: white;padding-right: 0.2em;padding-left: 0.2em;position: relative;}#sk-container-id-10 div.sk-item {position: relative;z-index: 1;}#sk-container-id-10 div.sk-parallel {display: flex;align-items: stretch;justify-content: center;background-color: white;position: relative;}#sk-container-id-10 div.sk-item::before, #sk-container-id-10 div.sk-parallel-item::before {content: \"\";position: absolute;border-left: 1px solid gray;box-sizing: border-box;top: 0;bottom: 0;left: 50%;z-index: -1;}#sk-container-id-10 div.sk-parallel-item {display: flex;flex-direction: column;z-index: 1;position: relative;background-color: white;}#sk-container-id-10 div.sk-parallel-item:first-child::after {align-self: flex-end;width: 50%;}#sk-container-id-10 div.sk-parallel-item:last-child::after {align-self: flex-start;width: 50%;}#sk-container-id-10 div.sk-parallel-item:only-child::after {width: 0;}#sk-container-id-10 div.sk-dashed-wrapped {border: 1px dashed gray;margin: 0 0.4em 0.5em 0.4em;box-sizing: border-box;padding-bottom: 0.4em;background-color: white;}#sk-container-id-10 div.sk-label label {font-family: monospace;font-weight: bold;display: inline-block;line-height: 1.2em;}#sk-container-id-10 div.sk-label-container {text-align: center;}#sk-container-id-10 div.sk-container {/* jupyter's `normalize.less` sets `[hidden] { display: none; }` but bootstrap.min.css set `[hidden] { display: none !important; }` so we also need the `!important` here to be able to override the default hidden behavior on the sphinx rendered scikit-learn.org. See: https://github.com/scikit-learn/scikit-learn/issues/21755 */display: inline-block !important;position: relative;}#sk-container-id-10 div.sk-text-repr-fallback {display: none;}</style><div id=\"sk-container-id-10\" class=\"sk-top-container\"><div class=\"sk-text-repr-fallback\"><pre>SVC(kernel=&#x27;linear&#x27;)</pre><b>In a Jupyter environment, please rerun this cell to show the HTML representation or trust the notebook. <br />On GitHub, the HTML representation is unable to render, please try loading this page with nbviewer.org.</b></div><div class=\"sk-container\" hidden><div class=\"sk-item\"><div class=\"sk-estimator sk-toggleable\"><input class=\"sk-toggleable__control sk-hidden--visually\" id=\"sk-estimator-id-10\" type=\"checkbox\" checked><label for=\"sk-estimator-id-10\" class=\"sk-toggleable__label sk-toggleable__label-arrow\">SVC</label><div class=\"sk-toggleable__content\"><pre>SVC(kernel=&#x27;linear&#x27;)</pre></div></div></div></div></div>"
            ]
          },
          "metadata": {},
          "execution_count": 119
        }
      ]
    },
    {
      "cell_type": "markdown",
      "source": [
        "evaluation"
      ],
      "metadata": {
        "id": "apf2KFCXjpfe"
      }
    },
    {
      "cell_type": "code",
      "source": [
        "X5_train_prediction = classifier.predict(X5_train)\n",
        "training_data5_accuracy = accuracy_score(Y5_train, X5_train_prediction)\n",
        "print('training accuracy:', training_data5_accuracy)"
      ],
      "metadata": {
        "colab": {
          "base_uri": "https://localhost:8080/"
        },
        "id": "XNCPBUaTh3MC",
        "outputId": "e28711f7-8848-4f4a-f53d-d45fb6db68be"
      },
      "execution_count": null,
      "outputs": [
        {
          "output_type": "stream",
          "name": "stdout",
          "text": [
            "training accuracy: 1.0\n"
          ]
        }
      ]
    },
    {
      "cell_type": "code",
      "source": [
        "X5_test_prediction = classifier.predict(X5_test)\n",
        "test_data5_accuracy = accuracy_score(Y5_test, X5_test_prediction)\n",
        "print('test accuracy:',test_data5_accuracy)"
      ],
      "metadata": {
        "colab": {
          "base_uri": "https://localhost:8080/"
        },
        "id": "1XXYsEfHj_Hk",
        "outputId": "39e1d6b1-7ff5-47d0-8845-55d286960722"
      },
      "execution_count": null,
      "outputs": [
        {
          "output_type": "stream",
          "name": "stdout",
          "text": [
            "test accuracy: 1.0\n"
          ]
        }
      ]
    },
    {
      "cell_type": "code",
      "source": [
        "input_data5=(67,20.0,435.0,459.0,459.0,1.11,37.0,3.22,81,24,15.0,61.97,2,3,1,2,0,0,0,0,0)\n",
        "input_data5_as_numpy_array = np.array(input_data5)\n",
        "input_data5_reshaped = input_data5_as_numpy_array.reshape(1,-1)\n",
        "prediction5 = gnb.predict(input_data5_reshaped)\n",
        "print(prediction5[0])\n",
        "if(prediction5[0]==0):\n",
        "  print('Severe COPD')\n",
        "elif(prediction5[0]==1):\n",
        "  print('Moderate COPD')\n",
        "elif(prediction5[0]==2):\n",
        "  print('Very severe COPD')\n",
        "else:\n",
        "  print('Mild COPD')"
      ],
      "metadata": {
        "colab": {
          "base_uri": "https://localhost:8080/"
        },
        "id": "o6oGf_ZjkTC8",
        "outputId": "d034deb1-1ef2-4169-efb2-cfee3aed1999"
      },
      "execution_count": null,
      "outputs": [
        {
          "output_type": "stream",
          "name": "stdout",
          "text": [
            "0\n",
            "Severe COPD\n"
          ]
        },
        {
          "output_type": "stream",
          "name": "stderr",
          "text": [
            "/usr/local/lib/python3.10/dist-packages/sklearn/base.py:439: UserWarning: X does not have valid feature names, but GaussianNB was fitted with feature names\n",
            "  warnings.warn(\n"
          ]
        }
      ]
    }
  ]
}